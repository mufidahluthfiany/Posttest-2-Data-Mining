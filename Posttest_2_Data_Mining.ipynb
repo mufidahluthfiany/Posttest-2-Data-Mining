{
  "nbformat": 4,
  "nbformat_minor": 0,
  "metadata": {
    "colab": {
      "provenance": [],
      "include_colab_link": true
    },
    "kernelspec": {
      "name": "python3",
      "display_name": "Python 3"
    },
    "language_info": {
      "name": "python"
    }
  },
  "cells": [
    {
      "cell_type": "markdown",
      "metadata": {
        "id": "view-in-github",
        "colab_type": "text"
      },
      "source": [
        "<a href=\"https://colab.research.google.com/github/mufidahluthfiany/Posttest-2-Data-Mining/blob/main/Posttest_2_Data_Mining.ipynb\" target=\"_parent\"><img src=\"https://colab.research.google.com/assets/colab-badge.svg\" alt=\"Open In Colab\"/></a>"
      ]
    },
    {
      "cell_type": "markdown",
      "source": [
        "# (1) Apriori"
      ],
      "metadata": {
        "id": "-0zOQSl3wlwj"
      }
    },
    {
      "cell_type": "markdown",
      "source": [
        "Gunakan dataset ini : https://drive.google.com/file/d/1BqC-2d1ZYqFIFwdjdsW5bAAqNFh2AO4C/view?usp=share_link\n",
        "\n",
        "Dan buatlah daftar support dan confidence untuk 2 item set dengan menggunakan dataset tersebut (hint : buatlah tabel tabulasi terlebih dahulu untuk memudahkan)"
      ],
      "metadata": {
        "id": "h-to2rkExJxa"
      }
    },
    {
      "cell_type": "code",
      "source": [
        "import pandas as pd\n",
        "from mlxtend.preprocessing import TransactionEncoder\n",
        "from mlxtend.frequent_patterns import apriori, association_rules"
      ],
      "metadata": {
        "id": "f5-AUZr1K0p2"
      },
      "execution_count": null,
      "outputs": []
    },
    {
      "cell_type": "code",
      "source": [
        "\n",
        "# data in form transaction list\n",
        "data = [['whole milk', 'pastry', 'salty snack'],\n",
        "    ['sausage', 'whole milk', 'semi-finished bread', 'yogurt'],\n",
        "    ['soda', 'pickled vegetables'],\n",
        "    ['canned beer', 'misc. beverages'],\n",
        "    ['sausage', 'hygiene articles'],\n",
        "    ['sausage', 'whole milk', 'rolls/buns'],\n",
        "    ['whole milk', 'soda'],\n",
        "    ['frankfurter', 'soda', 'whipped/sour cream'],\n",
        "    ['frankfurter', 'curd'],\n",
        "    ['beef', 'white bread'],\n",
        "    ['butter', 'whole milk'],\n",
        "    ['frozen vegetables', 'other vegetables'],\n",
        "    ['tropical fruit', 'sugar'],\n",
        "    ['butter milk', 'specialty chocolate'],\n",
        "    ['frozen meals', 'dental care'],\n",
        "    ['rolls/buns', 'rolls/buns'],\n",
        "    ['root vegetables', 'detergent'],\n",
        "    ['sausage', 'rolls/buns'],\n",
        "    ['dish cleaner', 'cling film/bags'],\n",
        "]\n",
        "\n",
        "df = pd.DataFrame(data)\n",
        "df = pd.get_dummies(df.stack()).sum(level=0)\n",
        "print(df)"
      ],
      "metadata": {
        "id": "cFL8T-btLAgy",
        "outputId": "6eecdb30-6cc1-4d69-ebb2-ac6123959905",
        "colab": {
          "base_uri": "https://localhost:8080/"
        }
      },
      "execution_count": null,
      "outputs": [
        {
          "output_type": "stream",
          "name": "stdout",
          "text": [
            "    beef  butter  butter milk  canned beer  cling film/bags  curd  \\\n",
            "0      0       0            0            0                0     0   \n",
            "1      0       0            0            0                0     0   \n",
            "2      0       0            0            0                0     0   \n",
            "3      0       0            0            1                0     0   \n",
            "4      0       0            0            0                0     0   \n",
            "5      0       0            0            0                0     0   \n",
            "6      0       0            0            0                0     0   \n",
            "7      0       0            0            0                0     0   \n",
            "8      0       0            0            0                0     1   \n",
            "9      1       0            0            0                0     0   \n",
            "10     0       1            0            0                0     0   \n",
            "11     0       0            0            0                0     0   \n",
            "12     0       0            0            0                0     0   \n",
            "13     0       0            1            0                0     0   \n",
            "14     0       0            0            0                0     0   \n",
            "15     0       0            0            0                0     0   \n",
            "16     0       0            0            0                0     0   \n",
            "17     0       0            0            0                0     0   \n",
            "18     0       0            0            0                1     0   \n",
            "\n",
            "    dental care  detergent  dish cleaner  frankfurter  ...  sausage  \\\n",
            "0             0          0             0            0  ...        0   \n",
            "1             0          0             0            0  ...        1   \n",
            "2             0          0             0            0  ...        0   \n",
            "3             0          0             0            0  ...        0   \n",
            "4             0          0             0            0  ...        1   \n",
            "5             0          0             0            0  ...        1   \n",
            "6             0          0             0            0  ...        0   \n",
            "7             0          0             0            1  ...        0   \n",
            "8             0          0             0            1  ...        0   \n",
            "9             0          0             0            0  ...        0   \n",
            "10            0          0             0            0  ...        0   \n",
            "11            0          0             0            0  ...        0   \n",
            "12            0          0             0            0  ...        0   \n",
            "13            0          0             0            0  ...        0   \n",
            "14            1          0             0            0  ...        0   \n",
            "15            0          0             0            0  ...        0   \n",
            "16            0          1             0            0  ...        0   \n",
            "17            0          0             0            0  ...        1   \n",
            "18            0          0             1            0  ...        0   \n",
            "\n",
            "    semi-finished bread  soda  specialty chocolate  sugar  tropical fruit  \\\n",
            "0                     0     0                    0      0               0   \n",
            "1                     1     0                    0      0               0   \n",
            "2                     0     1                    0      0               0   \n",
            "3                     0     0                    0      0               0   \n",
            "4                     0     0                    0      0               0   \n",
            "5                     0     0                    0      0               0   \n",
            "6                     0     1                    0      0               0   \n",
            "7                     0     1                    0      0               0   \n",
            "8                     0     0                    0      0               0   \n",
            "9                     0     0                    0      0               0   \n",
            "10                    0     0                    0      0               0   \n",
            "11                    0     0                    0      0               0   \n",
            "12                    0     0                    0      1               1   \n",
            "13                    0     0                    1      0               0   \n",
            "14                    0     0                    0      0               0   \n",
            "15                    0     0                    0      0               0   \n",
            "16                    0     0                    0      0               0   \n",
            "17                    0     0                    0      0               0   \n",
            "18                    0     0                    0      0               0   \n",
            "\n",
            "    whipped/sour cream  white bread  whole milk  yogurt  \n",
            "0                    0            0           1       0  \n",
            "1                    0            0           1       1  \n",
            "2                    0            0           0       0  \n",
            "3                    0            0           0       0  \n",
            "4                    0            0           0       0  \n",
            "5                    0            0           1       0  \n",
            "6                    0            0           1       0  \n",
            "7                    1            0           0       0  \n",
            "8                    0            0           0       0  \n",
            "9                    0            1           0       0  \n",
            "10                   0            0           1       0  \n",
            "11                   0            0           0       0  \n",
            "12                   0            0           0       0  \n",
            "13                   0            0           0       0  \n",
            "14                   0            0           0       0  \n",
            "15                   0            0           0       0  \n",
            "16                   0            0           0       0  \n",
            "17                   0            0           0       0  \n",
            "18                   0            0           0       0  \n",
            "\n",
            "[19 rows x 30 columns]\n"
          ]
        },
        {
          "output_type": "stream",
          "name": "stderr",
          "text": [
            "<ipython-input-12-f09ad9f3b546>:24: FutureWarning: Using the level keyword in DataFrame and Series aggregations is deprecated and will be removed in a future version. Use groupby instead. df.sum(level=1) should use df.groupby(level=1).sum().\n",
            "  df = pd.get_dummies(df.stack()).sum(level=0)\n"
          ]
        }
      ]
    },
    {
      "cell_type": "code",
      "source": [
        "import pandas as pd\n",
        "from mlxtend.preprocessing import TransactionEncoder\n",
        "from mlxtend.frequent_patterns import apriori, association_rules\n",
        "\n",
        "# data in the transaction list\n",
        "data = [    ['whole milk', 'pastry', 'salty snack'],\n",
        "    ['sausage', 'whole milk', 'semi-finished bread', 'yogurt'],\n",
        "    ['soda', 'pickled vegetables'],\n",
        "    ['canned beer', 'misc. beverages'],\n",
        "    ['sausage', 'hygiene articles'],\n",
        "    ['sausage', 'whole milk', 'rolls/buns'],\n",
        "    ['whole milk', 'soda'],\n",
        "    ['frankfurter', 'soda', 'whipped/sour cream'],\n",
        "    ['frankfurter', 'curd'],\n",
        "    ['beef', 'white bread'],\n",
        "    ['butter', 'whole milk'],\n",
        "    ['frozen vegetables', 'other vegetables'],\n",
        "    ['tropical fruit', 'sugar'],\n",
        "    ['butter milk', 'specialty chocolate'],\n",
        "    ['frozen meals', 'dental care'],\n",
        "    ['rolls/buns', 'rolls/buns'],\n",
        "    ['root vegetables', 'detergent'],\n",
        "    ['sausage', 'rolls/buns'],\n",
        "    ['dish cleaner', 'cling film/bags'],\n",
        "]\n",
        "\n",
        "# mengonversi data ke format pengkodean one - hot\n",
        "te = TransactionEncoder()\n",
        "te_ary = te.fit(data).transform(data)\n",
        "df = pd.DataFrame(te_ary, columns=te.columns_)\n",
        "\n",
        "# temukan itemsets (support) yang sering muncul dengan Apriori algorithm\n",
        "frequent_itemsets = apriori(df, min_support=0.05, use_colnames=True)\n",
        "\n",
        "# temukan association rules dengan Association Rule Mining algorithm\n",
        "rules = association_rules(frequent_itemsets, metric=\"confidence\", min_threshold=0.5)\n",
        "\n",
        "# buat table of support untuk itemsets\n",
        "df_support = frequent_itemsets\n",
        "df_support['support'] = df_support['support'].apply(lambda x: \"{:.2f}%\".format(x*100))\n",
        "df_support = df_support.rename(columns={\"itemsets\": \"itemset\"})\n",
        "df_support = df_support.set_index('itemset')\n",
        "print(df_support)\n",
        "\n",
        "# buat table of support dan confidence for rules\n",
        "df_rules = pd.DataFrame(rules, columns=['antecedents', 'consequents', 'support', 'confidence', 'lift'])\n",
        "\n",
        "# filter rules dengan hanya 1 antecedent dan 1 consequent\n",
        "df_rules = df_rules[df_rules['antecedents'].apply(lambda x: len(x) == 1) & df_rules['consequents'].apply(lambda x: len(x) == 1)]\n",
        "\n",
        "# format antecedent dan consequent kolom\n",
        "df_rules['antecedents'] = df_rules['antecedents'].apply(lambda x: list(x)[0])\n",
        "df_rules['consequents'] = df_rules['consequents'].apply(lambda x: list(x)[0])\n",
        "\n",
        "# tetapkan antecedent sebagai indeks dan urutkan berdasarkan confidence\n",
        "df_rules = df_rules.set_index('antecedents')\n",
        "df_rules = df_rules.sort_values(by=['confidence'], ascending=False)\n",
        "\n",
        "# membuat tabel support dan confidence untuk filtered rules\n",
        "df_rules = df_rules[['consequents', 'support', 'confidence']]\n",
        "df_rules['support'] = df_rules['support'].apply(lambda x: \"{:.2f}%\".format(x*100))\n",
        "df_rules['confidence'] = df_rules['confidence'].apply(lambda x: \"{:.2f}%\".format(x*100))\n",
        "print(\"\\n\")\n",
        "print(\"HASIL SUPPORT DAN CONFIDENCE\")\n",
        "print(\"\\n\")\n",
        "\n",
        "print(df_rules)\n"
      ],
      "metadata": {
        "id": "MBjWK58jEqEJ",
        "outputId": "9dc455d1-027e-40e2-f5ba-6df6bd8ba7e2",
        "colab": {
          "base_uri": "https://localhost:8080/"
        }
      },
      "execution_count": null,
      "outputs": [
        {
          "output_type": "stream",
          "name": "stdout",
          "text": [
            "                                                   support\n",
            "itemset                                                   \n",
            "(beef)                                               5.26%\n",
            "(butter)                                             5.26%\n",
            "(butter milk)                                        5.26%\n",
            "(canned beer)                                        5.26%\n",
            "(cling film/bags)                                    5.26%\n",
            "...                                                    ...\n",
            "(whole milk, semi-finished bread, sausage)           5.26%\n",
            "(sausage, yogurt, semi-finished bread)               5.26%\n",
            "(whole milk, sausage, yogurt)                        5.26%\n",
            "(whole milk, yogurt, semi-finished bread)            5.26%\n",
            "(whole milk, yogurt, semi-finished bread, sausage)   5.26%\n",
            "\n",
            "[65 rows x 1 columns]\n",
            "\n",
            "\n",
            "HASIL SUPPORT DAN CONFIDENCE\n",
            "\n",
            "\n",
            "                             consequents support confidence\n",
            "antecedents                                                \n",
            "white bread                         beef   5.26%    100.00%\n",
            "semi-finished bread              sausage   5.26%    100.00%\n",
            "hygiene articles                 sausage   5.26%    100.00%\n",
            "pastry                       salty snack   5.26%    100.00%\n",
            "salty snack                       pastry   5.26%    100.00%\n",
            "pastry                        whole milk   5.26%    100.00%\n",
            "pickled vegetables                  soda   5.26%    100.00%\n",
            "salty snack                   whole milk   5.26%    100.00%\n",
            "yogurt                           sausage   5.26%    100.00%\n",
            "other vegetables       frozen vegetables   5.26%    100.00%\n",
            "semi-finished bread           whole milk   5.26%    100.00%\n",
            "yogurt               semi-finished bread   5.26%    100.00%\n",
            "semi-finished bread               yogurt   5.26%    100.00%\n",
            "whipped/sour cream                  soda   5.26%    100.00%\n",
            "tropical fruit                     sugar   5.26%    100.00%\n",
            "sugar                     tropical fruit   5.26%    100.00%\n",
            "beef                         white bread   5.26%    100.00%\n",
            "frozen vegetables       other vegetables   5.26%    100.00%\n",
            "whipped/sour cream           frankfurter   5.26%    100.00%\n",
            "curd                         frankfurter   5.26%    100.00%\n",
            "butter                        whole milk   5.26%    100.00%\n",
            "butter milk          specialty chocolate   5.26%    100.00%\n",
            "specialty chocolate          butter milk   5.26%    100.00%\n",
            "canned beer              misc. beverages   5.26%    100.00%\n",
            "misc. beverages              canned beer   5.26%    100.00%\n",
            "dish cleaner             cling film/bags   5.26%    100.00%\n",
            "cling film/bags             dish cleaner   5.26%    100.00%\n",
            "yogurt                        whole milk   5.26%    100.00%\n",
            "frozen meals                 dental care   5.26%    100.00%\n",
            "dental care                 frozen meals   5.26%    100.00%\n",
            "root vegetables                detergent   5.26%    100.00%\n",
            "detergent                root vegetables   5.26%    100.00%\n",
            "rolls/buns                       sausage  10.53%     66.67%\n",
            "frankfurter           whipped/sour cream   5.26%     50.00%\n",
            "sausage                       whole milk  10.53%     50.00%\n",
            "sausage                       rolls/buns  10.53%     50.00%\n",
            "frankfurter                         soda   5.26%     50.00%\n",
            "frankfurter                         curd   5.26%     50.00%\n"
          ]
        }
      ]
    },
    {
      "cell_type": "markdown",
      "source": [
        "#(2) KNN\n",
        "\n",
        "Gunakan dataset ini : https://drive.google.com/file/d/1pXAJZZXCXosf0PTJkyogopKaPFxCYl22/view?usp=share_link\n",
        "\n",
        "Kemudian buatlah tabel jarak berdasarkan data berikut ini : \n",
        "\n",
        "![Gambar](data:image/png;base64,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)\n",
        "<!-- 1412 -->"
      ],
      "metadata": {
        "id": "wEgfTlH7xlgG"
      }
    },
    {
      "cell_type": "code",
      "source": [
        "import pandas as pd\n",
        "import math"
      ],
      "metadata": {
        "id": "32whrJLtciiQ"
      },
      "execution_count": null,
      "outputs": []
    },
    {
      "cell_type": "code",
      "source": [
        "# 1. Tambahkan kolom jarak untuk menampilkan jarak dari dataset terhadap target prediksi\n",
        "\n",
        "# Membuat data frame\n",
        "df = pd.read_csv('deteksi_uang_palsu.csv')\n",
        "\n",
        "# Menentukan target prediksi\n",
        "target = {'height_left': 172.25,\n",
        "          'height_right': 103.94,\n",
        "          'margin_low': 103.68,\n",
        "          'margin_up': 4.14,\n",
        "          'length': 3.25}\n",
        "\n",
        "# Membuat kolom jarak\n",
        "df['jarak'] = df.apply(lambda x: math.sqrt((x['height_left'] - target['height_left'])**2 + \n",
        "                                           (x['height_right'] - target['height_right'])**2 +\n",
        "                                           (x['margin_low'] - target['margin_low'])**2 + \n",
        "                                           (x['margin_up'] - target['margin_up'])**2 + \n",
        "                                           (x['length'] - target['length'])**2), axis=1)\n",
        "\n",
        "# Menampilkan tabel jarak\n",
        "print(df)"
      ],
      "metadata": {
        "id": "09vio_0B1KQk",
        "colab": {
          "base_uri": "https://localhost:8080/"
        },
        "outputId": "77507311-ed56-4ffe-a653-ccf696fc551b"
      },
      "execution_count": null,
      "outputs": [
        {
          "output_type": "stream",
          "name": "stdout",
          "text": [
            "   is_genuine  diagonal  height_left  height_right  margin_low  margin_up  \\\n",
            "0        True    172.06       104.24        103.66        4.24       3.10   \n",
            "1        True    171.66       103.68        103.41        4.35       3.33   \n",
            "2        True    172.23       104.00        103.35        4.43       2.95   \n",
            "3        True    172.07       104.21        103.82        4.29       3.35   \n",
            "4        True    171.79       104.57        104.04        4.26       3.15   \n",
            "5       False    172.00       104.23        104.52        5.76       3.37   \n",
            "6       False    171.56       104.03        103.93        5.47       3.50   \n",
            "7       False    171.90       104.33        104.40        4.70       3.31   \n",
            "8       False    171.84       104.06        104.10        4.87       3.25   \n",
            "9       False    172.11       104.14        104.15        4.84       3.28   \n",
            "\n",
            "   length       jarak  \n",
            "0  113.02  162.985541  \n",
            "1  113.74  163.637621  \n",
            "2  113.12  163.039278  \n",
            "3  113.30  163.154696  \n",
            "4  113.46  163.132317  \n",
            "5  110.94  160.664595  \n",
            "6  111.67  161.413998  \n",
            "7  112.12  162.060927  \n",
            "8  111.04  161.346813  \n",
            "9  110.98  161.291210  \n"
          ]
        }
      ]
    },
    {
      "cell_type": "code",
      "source": [
        "# 2. Urutkan data berdasarkan K jarak terdekat (Untuk K nya ambil akar 2 dari banyak data)\n",
        "\n",
        "# load data\n",
        "df = pd.read_csv(\"deteksi_uang_palsu.csv\")\n",
        "\n",
        "# hitung jarak dari setiap data \n",
        "target = [172.25, 103.94, 103.68, 4.14, 3.25, 112.48]\n",
        "jarak = []\n",
        "for i in range(len(df)):\n",
        "    d = 0\n",
        "    for j in range(1, 7):\n",
        "        d += (df.iloc[i, j] - target[j-1])**2\n",
        "    jarak.append(math.sqrt(d))\n",
        "df['jarak'] = jarak\n",
        "\n",
        "# urutkan data dari jarak terdekat\n",
        "K = int(math.sqrt(len(df)))\n",
        "df_sorted = df.sort_values(by='jarak').head(K)\n",
        "\n",
        "# tampilkan data terurut\n",
        "print(df_sorted)"
      ],
      "metadata": {
        "id": "DgeVwMEX2JZi",
        "colab": {
          "base_uri": "https://localhost:8080/"
        },
        "outputId": "cab66a2a-6047-4c19-914b-2ed10af2a668"
      },
      "execution_count": null,
      "outputs": [
        {
          "output_type": "stream",
          "name": "stdout",
          "text": [
            "   is_genuine  diagonal  height_left  height_right  margin_low  margin_up  \\\n",
            "0        True    172.06       104.24        103.66        4.24       3.10   \n",
            "2        True    172.23       104.00        103.35        4.43       2.95   \n",
            "3        True    172.07       104.21        103.82        4.29       3.35   \n",
            "\n",
            "   length     jarak  \n",
            "0  113.02  0.671267  \n",
            "2  113.12  0.834626  \n",
            "3  113.30  0.910934  \n"
          ]
        }
      ]
    },
    {
      "cell_type": "code",
      "source": [
        "# 3. Tentukan apa hasil prediksinya berdasarkan label terbanyak\n",
        "\n",
        "# tentukan nilai K\n",
        "K = round(len(df)**0.5)\n",
        "\n",
        "# ambil K data terdekat\n",
        "k_nearest_neighbors = df_sorted[:K]\n",
        "\n",
        "# hitung label terbanyak\n",
        "prediction = pd.DataFrame(k_nearest_neighbors['is_genuine'].mode())\n",
        "\n",
        "print(\"Hasil prediksi: \")\n",
        "print(prediction)"
      ],
      "metadata": {
        "id": "JAho0GXZ2QeD",
        "colab": {
          "base_uri": "https://localhost:8080/"
        },
        "outputId": "445465b0-5aca-446d-f2ce-f597ff586d38"
      },
      "execution_count": null,
      "outputs": [
        {
          "output_type": "stream",
          "name": "stdout",
          "text": [
            "Hasil prediksi: \n",
            "   is_genuine\n",
            "0        True\n"
          ]
        }
      ]
    },
    {
      "cell_type": "markdown",
      "source": [
        "# (3) Analisis"
      ],
      "metadata": {
        "id": "F0N-LXThwiqD"
      }
    },
    {
      "cell_type": "markdown",
      "source": [
        "> Nama : Mufidah Luthfiany\n",
        "\n",
        "> Nim : 2109116052\n"
      ],
      "metadata": {
        "id": "dItRdcTguaHj"
      }
    },
    {
      "cell_type": "markdown",
      "source": [
        "Penjelasan posttest : \n",
        "\n",
        "Pilihlah salah satu tema dari daftar tema ini :  \n",
        "1. Perbankan\n",
        "2. Kesehatan\n",
        "3. Ritel\n",
        "4. Pendidkan\n",
        "\n",
        "Kemudian lakukan analisis dengan menggunakan struktur CRISP-DM\n",
        "\n",
        "Dimulai dari Business Understanding Hingga Data Preparation \n",
        "<img src=\"https://th.bing.com/th/id/R.f8efea41ae3cd96d86fbc5b10f81ad77?rik=K4Dr%2biIaVGvW8g&riu=http%3a%2f%2fwww.dataprix.com%2ffiles%2fCRISPDM%2fMetodologia_CRISP_DM1_html_52cdbecf.png&ehk=6ONLJMCVxE421Sjt2JJPE6MfCzrL7LLhDZQPdkJTLcw%3d&risl=&pid=ImgRaw&r=0\"/>\n",
        "\n",
        "Tentukan judul dengan ketentuan setiap orang di kelas beda-beda judulnya dan sumber datasetnya (contoh bisa prediksi atau aturan asosiasi)\n",
        "\n",
        "Catatan : Tugas ini akan berhubungan dengan posttest terakhir (pertemuan 6)"
      ],
      "metadata": {
        "id": "Vbv4o0Q2uiXZ"
      }
    },
    {
      "cell_type": "markdown",
      "source": [
        "#\"Student Mental health\"\n",
        "\n",
        "---\n",
        "https://www.kaggle.com/datasets/shariful07/student-mental-health\n",
        "\n"
      ],
      "metadata": {
        "id": "wxmB2TbDdKwZ"
      }
    },
    {
      "cell_type": "code",
      "source": [
        "import pandas as pd\n",
        "import seaborn as sns\n",
        "import plotly.express as px\n",
        "import numpy as np\n",
        "import matplotlib.pyplot as plt\n",
        "pd.options.mode.chained_assignment = None\n",
        "sns.set(style = 'whitegrid')\n",
        "import textwrap"
      ],
      "metadata": {
        "id": "RofKkoD9dvbf"
      },
      "execution_count": null,
      "outputs": []
    },
    {
      "cell_type": "code",
      "source": [
        "df = pd.read_csv(\"Student Mental health.csv\")\n",
        "df"
      ],
      "metadata": {
        "id": "qIMiJBLLd0MH",
        "outputId": "6883c72b-6f30-4c94-981f-e57d76b833f0",
        "colab": {
          "base_uri": "https://localhost:8080/",
          "height": 676
        }
      },
      "execution_count": null,
      "outputs": [
        {
          "output_type": "execute_result",
          "data": {
            "text/plain": [
              "               Timestamp Choose your gender   Age What is your course?  \\\n",
              "0         8/7/2020 12:02             Female  18.0          Engineering   \n",
              "1         8/7/2020 12:04               Male  21.0    Islamic education   \n",
              "2         8/7/2020 12:05               Male  19.0                  BIT   \n",
              "3         8/7/2020 12:06             Female  22.0                 Laws   \n",
              "4         8/7/2020 12:13               Male  23.0         Mathemathics   \n",
              "..                   ...                ...   ...                  ...   \n",
              "96   13/07/2020 19:56:49             Female  21.0                  BCS   \n",
              "97   13/07/2020 21:21:42               Male  18.0          Engineering   \n",
              "98   13/07/2020 21:22:56             Female  19.0             Nursing    \n",
              "99   13/07/2020 21:23:57             Female  23.0     Pendidikan Islam   \n",
              "100  18/07/2020 20:16:21               Male  20.0   Biomedical science   \n",
              "\n",
              "    Your current year of Study What is your CGPA? Marital status  \\\n",
              "0                       year 1        3.00 - 3.49             No   \n",
              "1                       year 2        3.00 - 3.49             No   \n",
              "2                       Year 1        3.00 - 3.49             No   \n",
              "3                       year 3        3.00 - 3.49            Yes   \n",
              "4                       year 4        3.00 - 3.49             No   \n",
              "..                         ...                ...            ...   \n",
              "96                      year 1        3.50 - 4.00             No   \n",
              "97                      Year 2        3.00 - 3.49             No   \n",
              "98                      Year 3        3.50 - 4.00            Yes   \n",
              "99                      year 4        3.50 - 4.00             No   \n",
              "100                     Year 2        3.00 - 3.49             No   \n",
              "\n",
              "    Do you have Depression? Do you have Anxiety? Do you have Panic attack?  \\\n",
              "0                       Yes                   No                       Yes   \n",
              "1                        No                  Yes                        No   \n",
              "2                       Yes                  Yes                       Yes   \n",
              "3                       Yes                   No                        No   \n",
              "4                        No                   No                        No   \n",
              "..                      ...                  ...                       ...   \n",
              "96                       No                  Yes                        No   \n",
              "97                      Yes                  Yes                        No   \n",
              "98                      Yes                   No                       Yes   \n",
              "99                       No                   No                        No   \n",
              "100                      No                   No                        No   \n",
              "\n",
              "    Did you seek any specialist for a treatment?  \n",
              "0                                             No  \n",
              "1                                             No  \n",
              "2                                             No  \n",
              "3                                             No  \n",
              "4                                             No  \n",
              "..                                           ...  \n",
              "96                                            No  \n",
              "97                                            No  \n",
              "98                                            No  \n",
              "99                                            No  \n",
              "100                                           No  \n",
              "\n",
              "[101 rows x 11 columns]"
            ],
            "text/html": [
              "\n",
              "  <div id=\"df-ce778b0a-e13a-4114-88d2-fd8b009dd908\">\n",
              "    <div class=\"colab-df-container\">\n",
              "      <div>\n",
              "<style scoped>\n",
              "    .dataframe tbody tr th:only-of-type {\n",
              "        vertical-align: middle;\n",
              "    }\n",
              "\n",
              "    .dataframe tbody tr th {\n",
              "        vertical-align: top;\n",
              "    }\n",
              "\n",
              "    .dataframe thead th {\n",
              "        text-align: right;\n",
              "    }\n",
              "</style>\n",
              "<table border=\"1\" class=\"dataframe\">\n",
              "  <thead>\n",
              "    <tr style=\"text-align: right;\">\n",
              "      <th></th>\n",
              "      <th>Timestamp</th>\n",
              "      <th>Choose your gender</th>\n",
              "      <th>Age</th>\n",
              "      <th>What is your course?</th>\n",
              "      <th>Your current year of Study</th>\n",
              "      <th>What is your CGPA?</th>\n",
              "      <th>Marital status</th>\n",
              "      <th>Do you have Depression?</th>\n",
              "      <th>Do you have Anxiety?</th>\n",
              "      <th>Do you have Panic attack?</th>\n",
              "      <th>Did you seek any specialist for a treatment?</th>\n",
              "    </tr>\n",
              "  </thead>\n",
              "  <tbody>\n",
              "    <tr>\n",
              "      <th>0</th>\n",
              "      <td>8/7/2020 12:02</td>\n",
              "      <td>Female</td>\n",
              "      <td>18.0</td>\n",
              "      <td>Engineering</td>\n",
              "      <td>year 1</td>\n",
              "      <td>3.00 - 3.49</td>\n",
              "      <td>No</td>\n",
              "      <td>Yes</td>\n",
              "      <td>No</td>\n",
              "      <td>Yes</td>\n",
              "      <td>No</td>\n",
              "    </tr>\n",
              "    <tr>\n",
              "      <th>1</th>\n",
              "      <td>8/7/2020 12:04</td>\n",
              "      <td>Male</td>\n",
              "      <td>21.0</td>\n",
              "      <td>Islamic education</td>\n",
              "      <td>year 2</td>\n",
              "      <td>3.00 - 3.49</td>\n",
              "      <td>No</td>\n",
              "      <td>No</td>\n",
              "      <td>Yes</td>\n",
              "      <td>No</td>\n",
              "      <td>No</td>\n",
              "    </tr>\n",
              "    <tr>\n",
              "      <th>2</th>\n",
              "      <td>8/7/2020 12:05</td>\n",
              "      <td>Male</td>\n",
              "      <td>19.0</td>\n",
              "      <td>BIT</td>\n",
              "      <td>Year 1</td>\n",
              "      <td>3.00 - 3.49</td>\n",
              "      <td>No</td>\n",
              "      <td>Yes</td>\n",
              "      <td>Yes</td>\n",
              "      <td>Yes</td>\n",
              "      <td>No</td>\n",
              "    </tr>\n",
              "    <tr>\n",
              "      <th>3</th>\n",
              "      <td>8/7/2020 12:06</td>\n",
              "      <td>Female</td>\n",
              "      <td>22.0</td>\n",
              "      <td>Laws</td>\n",
              "      <td>year 3</td>\n",
              "      <td>3.00 - 3.49</td>\n",
              "      <td>Yes</td>\n",
              "      <td>Yes</td>\n",
              "      <td>No</td>\n",
              "      <td>No</td>\n",
              "      <td>No</td>\n",
              "    </tr>\n",
              "    <tr>\n",
              "      <th>4</th>\n",
              "      <td>8/7/2020 12:13</td>\n",
              "      <td>Male</td>\n",
              "      <td>23.0</td>\n",
              "      <td>Mathemathics</td>\n",
              "      <td>year 4</td>\n",
              "      <td>3.00 - 3.49</td>\n",
              "      <td>No</td>\n",
              "      <td>No</td>\n",
              "      <td>No</td>\n",
              "      <td>No</td>\n",
              "      <td>No</td>\n",
              "    </tr>\n",
              "    <tr>\n",
              "      <th>...</th>\n",
              "      <td>...</td>\n",
              "      <td>...</td>\n",
              "      <td>...</td>\n",
              "      <td>...</td>\n",
              "      <td>...</td>\n",
              "      <td>...</td>\n",
              "      <td>...</td>\n",
              "      <td>...</td>\n",
              "      <td>...</td>\n",
              "      <td>...</td>\n",
              "      <td>...</td>\n",
              "    </tr>\n",
              "    <tr>\n",
              "      <th>96</th>\n",
              "      <td>13/07/2020 19:56:49</td>\n",
              "      <td>Female</td>\n",
              "      <td>21.0</td>\n",
              "      <td>BCS</td>\n",
              "      <td>year 1</td>\n",
              "      <td>3.50 - 4.00</td>\n",
              "      <td>No</td>\n",
              "      <td>No</td>\n",
              "      <td>Yes</td>\n",
              "      <td>No</td>\n",
              "      <td>No</td>\n",
              "    </tr>\n",
              "    <tr>\n",
              "      <th>97</th>\n",
              "      <td>13/07/2020 21:21:42</td>\n",
              "      <td>Male</td>\n",
              "      <td>18.0</td>\n",
              "      <td>Engineering</td>\n",
              "      <td>Year 2</td>\n",
              "      <td>3.00 - 3.49</td>\n",
              "      <td>No</td>\n",
              "      <td>Yes</td>\n",
              "      <td>Yes</td>\n",
              "      <td>No</td>\n",
              "      <td>No</td>\n",
              "    </tr>\n",
              "    <tr>\n",
              "      <th>98</th>\n",
              "      <td>13/07/2020 21:22:56</td>\n",
              "      <td>Female</td>\n",
              "      <td>19.0</td>\n",
              "      <td>Nursing</td>\n",
              "      <td>Year 3</td>\n",
              "      <td>3.50 - 4.00</td>\n",
              "      <td>Yes</td>\n",
              "      <td>Yes</td>\n",
              "      <td>No</td>\n",
              "      <td>Yes</td>\n",
              "      <td>No</td>\n",
              "    </tr>\n",
              "    <tr>\n",
              "      <th>99</th>\n",
              "      <td>13/07/2020 21:23:57</td>\n",
              "      <td>Female</td>\n",
              "      <td>23.0</td>\n",
              "      <td>Pendidikan Islam</td>\n",
              "      <td>year 4</td>\n",
              "      <td>3.50 - 4.00</td>\n",
              "      <td>No</td>\n",
              "      <td>No</td>\n",
              "      <td>No</td>\n",
              "      <td>No</td>\n",
              "      <td>No</td>\n",
              "    </tr>\n",
              "    <tr>\n",
              "      <th>100</th>\n",
              "      <td>18/07/2020 20:16:21</td>\n",
              "      <td>Male</td>\n",
              "      <td>20.0</td>\n",
              "      <td>Biomedical science</td>\n",
              "      <td>Year 2</td>\n",
              "      <td>3.00 - 3.49</td>\n",
              "      <td>No</td>\n",
              "      <td>No</td>\n",
              "      <td>No</td>\n",
              "      <td>No</td>\n",
              "      <td>No</td>\n",
              "    </tr>\n",
              "  </tbody>\n",
              "</table>\n",
              "<p>101 rows × 11 columns</p>\n",
              "</div>\n",
              "      <button class=\"colab-df-convert\" onclick=\"convertToInteractive('df-ce778b0a-e13a-4114-88d2-fd8b009dd908')\"\n",
              "              title=\"Convert this dataframe to an interactive table.\"\n",
              "              style=\"display:none;\">\n",
              "        \n",
              "  <svg xmlns=\"http://www.w3.org/2000/svg\" height=\"24px\"viewBox=\"0 0 24 24\"\n",
              "       width=\"24px\">\n",
              "    <path d=\"M0 0h24v24H0V0z\" fill=\"none\"/>\n",
              "    <path d=\"M18.56 5.44l.94 2.06.94-2.06 2.06-.94-2.06-.94-.94-2.06-.94 2.06-2.06.94zm-11 1L8.5 8.5l.94-2.06 2.06-.94-2.06-.94L8.5 2.5l-.94 2.06-2.06.94zm10 10l.94 2.06.94-2.06 2.06-.94-2.06-.94-.94-2.06-.94 2.06-2.06.94z\"/><path d=\"M17.41 7.96l-1.37-1.37c-.4-.4-.92-.59-1.43-.59-.52 0-1.04.2-1.43.59L10.3 9.45l-7.72 7.72c-.78.78-.78 2.05 0 2.83L4 21.41c.39.39.9.59 1.41.59.51 0 1.02-.2 1.41-.59l7.78-7.78 2.81-2.81c.8-.78.8-2.07 0-2.86zM5.41 20L4 18.59l7.72-7.72 1.47 1.35L5.41 20z\"/>\n",
              "  </svg>\n",
              "      </button>\n",
              "      \n",
              "  <style>\n",
              "    .colab-df-container {\n",
              "      display:flex;\n",
              "      flex-wrap:wrap;\n",
              "      gap: 12px;\n",
              "    }\n",
              "\n",
              "    .colab-df-convert {\n",
              "      background-color: #E8F0FE;\n",
              "      border: none;\n",
              "      border-radius: 50%;\n",
              "      cursor: pointer;\n",
              "      display: none;\n",
              "      fill: #1967D2;\n",
              "      height: 32px;\n",
              "      padding: 0 0 0 0;\n",
              "      width: 32px;\n",
              "    }\n",
              "\n",
              "    .colab-df-convert:hover {\n",
              "      background-color: #E2EBFA;\n",
              "      box-shadow: 0px 1px 2px rgba(60, 64, 67, 0.3), 0px 1px 3px 1px rgba(60, 64, 67, 0.15);\n",
              "      fill: #174EA6;\n",
              "    }\n",
              "\n",
              "    [theme=dark] .colab-df-convert {\n",
              "      background-color: #3B4455;\n",
              "      fill: #D2E3FC;\n",
              "    }\n",
              "\n",
              "    [theme=dark] .colab-df-convert:hover {\n",
              "      background-color: #434B5C;\n",
              "      box-shadow: 0px 1px 3px 1px rgba(0, 0, 0, 0.15);\n",
              "      filter: drop-shadow(0px 1px 2px rgba(0, 0, 0, 0.3));\n",
              "      fill: #FFFFFF;\n",
              "    }\n",
              "  </style>\n",
              "\n",
              "      <script>\n",
              "        const buttonEl =\n",
              "          document.querySelector('#df-ce778b0a-e13a-4114-88d2-fd8b009dd908 button.colab-df-convert');\n",
              "        buttonEl.style.display =\n",
              "          google.colab.kernel.accessAllowed ? 'block' : 'none';\n",
              "\n",
              "        async function convertToInteractive(key) {\n",
              "          const element = document.querySelector('#df-ce778b0a-e13a-4114-88d2-fd8b009dd908');\n",
              "          const dataTable =\n",
              "            await google.colab.kernel.invokeFunction('convertToInteractive',\n",
              "                                                     [key], {});\n",
              "          if (!dataTable) return;\n",
              "\n",
              "          const docLinkHtml = 'Like what you see? Visit the ' +\n",
              "            '<a target=\"_blank\" href=https://colab.research.google.com/notebooks/data_table.ipynb>data table notebook</a>'\n",
              "            + ' to learn more about interactive tables.';\n",
              "          element.innerHTML = '';\n",
              "          dataTable['output_type'] = 'display_data';\n",
              "          await google.colab.output.renderOutput(dataTable, element);\n",
              "          const docLink = document.createElement('div');\n",
              "          docLink.innerHTML = docLinkHtml;\n",
              "          element.appendChild(docLink);\n",
              "        }\n",
              "      </script>\n",
              "    </div>\n",
              "  </div>\n",
              "  "
            ]
          },
          "metadata": {},
          "execution_count": 19
        }
      ]
    },
    {
      "cell_type": "code",
      "source": [
        "df.head()"
      ],
      "metadata": {
        "id": "pNnw4kKzeTna",
        "outputId": "6af4951f-7928-41c4-cdb3-65776fbcc144",
        "colab": {
          "base_uri": "https://localhost:8080/",
          "height": 371
        }
      },
      "execution_count": null,
      "outputs": [
        {
          "output_type": "execute_result",
          "data": {
            "text/plain": [
              "        Timestamp Choose your gender   Age What is your course?  \\\n",
              "0  8/7/2020 12:02             Female  18.0          Engineering   \n",
              "1  8/7/2020 12:04               Male  21.0    Islamic education   \n",
              "2  8/7/2020 12:05               Male  19.0                  BIT   \n",
              "3  8/7/2020 12:06             Female  22.0                 Laws   \n",
              "4  8/7/2020 12:13               Male  23.0         Mathemathics   \n",
              "\n",
              "  Your current year of Study What is your CGPA? Marital status  \\\n",
              "0                     year 1        3.00 - 3.49             No   \n",
              "1                     year 2        3.00 - 3.49             No   \n",
              "2                     Year 1        3.00 - 3.49             No   \n",
              "3                     year 3        3.00 - 3.49            Yes   \n",
              "4                     year 4        3.00 - 3.49             No   \n",
              "\n",
              "  Do you have Depression? Do you have Anxiety? Do you have Panic attack?  \\\n",
              "0                     Yes                   No                       Yes   \n",
              "1                      No                  Yes                        No   \n",
              "2                     Yes                  Yes                       Yes   \n",
              "3                     Yes                   No                        No   \n",
              "4                      No                   No                        No   \n",
              "\n",
              "  Did you seek any specialist for a treatment?  \n",
              "0                                           No  \n",
              "1                                           No  \n",
              "2                                           No  \n",
              "3                                           No  \n",
              "4                                           No  "
            ],
            "text/html": [
              "\n",
              "  <div id=\"df-d76a962d-3abb-46be-b36b-3ca86476ec3c\">\n",
              "    <div class=\"colab-df-container\">\n",
              "      <div>\n",
              "<style scoped>\n",
              "    .dataframe tbody tr th:only-of-type {\n",
              "        vertical-align: middle;\n",
              "    }\n",
              "\n",
              "    .dataframe tbody tr th {\n",
              "        vertical-align: top;\n",
              "    }\n",
              "\n",
              "    .dataframe thead th {\n",
              "        text-align: right;\n",
              "    }\n",
              "</style>\n",
              "<table border=\"1\" class=\"dataframe\">\n",
              "  <thead>\n",
              "    <tr style=\"text-align: right;\">\n",
              "      <th></th>\n",
              "      <th>Timestamp</th>\n",
              "      <th>Choose your gender</th>\n",
              "      <th>Age</th>\n",
              "      <th>What is your course?</th>\n",
              "      <th>Your current year of Study</th>\n",
              "      <th>What is your CGPA?</th>\n",
              "      <th>Marital status</th>\n",
              "      <th>Do you have Depression?</th>\n",
              "      <th>Do you have Anxiety?</th>\n",
              "      <th>Do you have Panic attack?</th>\n",
              "      <th>Did you seek any specialist for a treatment?</th>\n",
              "    </tr>\n",
              "  </thead>\n",
              "  <tbody>\n",
              "    <tr>\n",
              "      <th>0</th>\n",
              "      <td>8/7/2020 12:02</td>\n",
              "      <td>Female</td>\n",
              "      <td>18.0</td>\n",
              "      <td>Engineering</td>\n",
              "      <td>year 1</td>\n",
              "      <td>3.00 - 3.49</td>\n",
              "      <td>No</td>\n",
              "      <td>Yes</td>\n",
              "      <td>No</td>\n",
              "      <td>Yes</td>\n",
              "      <td>No</td>\n",
              "    </tr>\n",
              "    <tr>\n",
              "      <th>1</th>\n",
              "      <td>8/7/2020 12:04</td>\n",
              "      <td>Male</td>\n",
              "      <td>21.0</td>\n",
              "      <td>Islamic education</td>\n",
              "      <td>year 2</td>\n",
              "      <td>3.00 - 3.49</td>\n",
              "      <td>No</td>\n",
              "      <td>No</td>\n",
              "      <td>Yes</td>\n",
              "      <td>No</td>\n",
              "      <td>No</td>\n",
              "    </tr>\n",
              "    <tr>\n",
              "      <th>2</th>\n",
              "      <td>8/7/2020 12:05</td>\n",
              "      <td>Male</td>\n",
              "      <td>19.0</td>\n",
              "      <td>BIT</td>\n",
              "      <td>Year 1</td>\n",
              "      <td>3.00 - 3.49</td>\n",
              "      <td>No</td>\n",
              "      <td>Yes</td>\n",
              "      <td>Yes</td>\n",
              "      <td>Yes</td>\n",
              "      <td>No</td>\n",
              "    </tr>\n",
              "    <tr>\n",
              "      <th>3</th>\n",
              "      <td>8/7/2020 12:06</td>\n",
              "      <td>Female</td>\n",
              "      <td>22.0</td>\n",
              "      <td>Laws</td>\n",
              "      <td>year 3</td>\n",
              "      <td>3.00 - 3.49</td>\n",
              "      <td>Yes</td>\n",
              "      <td>Yes</td>\n",
              "      <td>No</td>\n",
              "      <td>No</td>\n",
              "      <td>No</td>\n",
              "    </tr>\n",
              "    <tr>\n",
              "      <th>4</th>\n",
              "      <td>8/7/2020 12:13</td>\n",
              "      <td>Male</td>\n",
              "      <td>23.0</td>\n",
              "      <td>Mathemathics</td>\n",
              "      <td>year 4</td>\n",
              "      <td>3.00 - 3.49</td>\n",
              "      <td>No</td>\n",
              "      <td>No</td>\n",
              "      <td>No</td>\n",
              "      <td>No</td>\n",
              "      <td>No</td>\n",
              "    </tr>\n",
              "  </tbody>\n",
              "</table>\n",
              "</div>\n",
              "      <button class=\"colab-df-convert\" onclick=\"convertToInteractive('df-d76a962d-3abb-46be-b36b-3ca86476ec3c')\"\n",
              "              title=\"Convert this dataframe to an interactive table.\"\n",
              "              style=\"display:none;\">\n",
              "        \n",
              "  <svg xmlns=\"http://www.w3.org/2000/svg\" height=\"24px\"viewBox=\"0 0 24 24\"\n",
              "       width=\"24px\">\n",
              "    <path d=\"M0 0h24v24H0V0z\" fill=\"none\"/>\n",
              "    <path d=\"M18.56 5.44l.94 2.06.94-2.06 2.06-.94-2.06-.94-.94-2.06-.94 2.06-2.06.94zm-11 1L8.5 8.5l.94-2.06 2.06-.94-2.06-.94L8.5 2.5l-.94 2.06-2.06.94zm10 10l.94 2.06.94-2.06 2.06-.94-2.06-.94-.94-2.06-.94 2.06-2.06.94z\"/><path d=\"M17.41 7.96l-1.37-1.37c-.4-.4-.92-.59-1.43-.59-.52 0-1.04.2-1.43.59L10.3 9.45l-7.72 7.72c-.78.78-.78 2.05 0 2.83L4 21.41c.39.39.9.59 1.41.59.51 0 1.02-.2 1.41-.59l7.78-7.78 2.81-2.81c.8-.78.8-2.07 0-2.86zM5.41 20L4 18.59l7.72-7.72 1.47 1.35L5.41 20z\"/>\n",
              "  </svg>\n",
              "      </button>\n",
              "      \n",
              "  <style>\n",
              "    .colab-df-container {\n",
              "      display:flex;\n",
              "      flex-wrap:wrap;\n",
              "      gap: 12px;\n",
              "    }\n",
              "\n",
              "    .colab-df-convert {\n",
              "      background-color: #E8F0FE;\n",
              "      border: none;\n",
              "      border-radius: 50%;\n",
              "      cursor: pointer;\n",
              "      display: none;\n",
              "      fill: #1967D2;\n",
              "      height: 32px;\n",
              "      padding: 0 0 0 0;\n",
              "      width: 32px;\n",
              "    }\n",
              "\n",
              "    .colab-df-convert:hover {\n",
              "      background-color: #E2EBFA;\n",
              "      box-shadow: 0px 1px 2px rgba(60, 64, 67, 0.3), 0px 1px 3px 1px rgba(60, 64, 67, 0.15);\n",
              "      fill: #174EA6;\n",
              "    }\n",
              "\n",
              "    [theme=dark] .colab-df-convert {\n",
              "      background-color: #3B4455;\n",
              "      fill: #D2E3FC;\n",
              "    }\n",
              "\n",
              "    [theme=dark] .colab-df-convert:hover {\n",
              "      background-color: #434B5C;\n",
              "      box-shadow: 0px 1px 3px 1px rgba(0, 0, 0, 0.15);\n",
              "      filter: drop-shadow(0px 1px 2px rgba(0, 0, 0, 0.3));\n",
              "      fill: #FFFFFF;\n",
              "    }\n",
              "  </style>\n",
              "\n",
              "      <script>\n",
              "        const buttonEl =\n",
              "          document.querySelector('#df-d76a962d-3abb-46be-b36b-3ca86476ec3c button.colab-df-convert');\n",
              "        buttonEl.style.display =\n",
              "          google.colab.kernel.accessAllowed ? 'block' : 'none';\n",
              "\n",
              "        async function convertToInteractive(key) {\n",
              "          const element = document.querySelector('#df-d76a962d-3abb-46be-b36b-3ca86476ec3c');\n",
              "          const dataTable =\n",
              "            await google.colab.kernel.invokeFunction('convertToInteractive',\n",
              "                                                     [key], {});\n",
              "          if (!dataTable) return;\n",
              "\n",
              "          const docLinkHtml = 'Like what you see? Visit the ' +\n",
              "            '<a target=\"_blank\" href=https://colab.research.google.com/notebooks/data_table.ipynb>data table notebook</a>'\n",
              "            + ' to learn more about interactive tables.';\n",
              "          element.innerHTML = '';\n",
              "          dataTable['output_type'] = 'display_data';\n",
              "          await google.colab.output.renderOutput(dataTable, element);\n",
              "          const docLink = document.createElement('div');\n",
              "          docLink.innerHTML = docLinkHtml;\n",
              "          element.appendChild(docLink);\n",
              "        }\n",
              "      </script>\n",
              "    </div>\n",
              "  </div>\n",
              "  "
            ]
          },
          "metadata": {},
          "execution_count": 20
        }
      ]
    },
    {
      "cell_type": "code",
      "source": [
        "df.tail()"
      ],
      "metadata": {
        "id": "C6IEjDyQeXyk",
        "outputId": "afb08bfc-f8a7-4fe8-e8e3-b5dde6c2be3c",
        "colab": {
          "base_uri": "https://localhost:8080/",
          "height": 371
        }
      },
      "execution_count": null,
      "outputs": [
        {
          "output_type": "execute_result",
          "data": {
            "text/plain": [
              "               Timestamp Choose your gender   Age What is your course?  \\\n",
              "96   13/07/2020 19:56:49             Female  21.0                  BCS   \n",
              "97   13/07/2020 21:21:42               Male  18.0          Engineering   \n",
              "98   13/07/2020 21:22:56             Female  19.0             Nursing    \n",
              "99   13/07/2020 21:23:57             Female  23.0     Pendidikan Islam   \n",
              "100  18/07/2020 20:16:21               Male  20.0   Biomedical science   \n",
              "\n",
              "    Your current year of Study What is your CGPA? Marital status  \\\n",
              "96                      year 1        3.50 - 4.00             No   \n",
              "97                      Year 2        3.00 - 3.49             No   \n",
              "98                      Year 3        3.50 - 4.00            Yes   \n",
              "99                      year 4        3.50 - 4.00             No   \n",
              "100                     Year 2        3.00 - 3.49             No   \n",
              "\n",
              "    Do you have Depression? Do you have Anxiety? Do you have Panic attack?  \\\n",
              "96                       No                  Yes                        No   \n",
              "97                      Yes                  Yes                        No   \n",
              "98                      Yes                   No                       Yes   \n",
              "99                       No                   No                        No   \n",
              "100                      No                   No                        No   \n",
              "\n",
              "    Did you seek any specialist for a treatment?  \n",
              "96                                            No  \n",
              "97                                            No  \n",
              "98                                            No  \n",
              "99                                            No  \n",
              "100                                           No  "
            ],
            "text/html": [
              "\n",
              "  <div id=\"df-92d48cb6-0a94-4531-b525-7c0f11b8734b\">\n",
              "    <div class=\"colab-df-container\">\n",
              "      <div>\n",
              "<style scoped>\n",
              "    .dataframe tbody tr th:only-of-type {\n",
              "        vertical-align: middle;\n",
              "    }\n",
              "\n",
              "    .dataframe tbody tr th {\n",
              "        vertical-align: top;\n",
              "    }\n",
              "\n",
              "    .dataframe thead th {\n",
              "        text-align: right;\n",
              "    }\n",
              "</style>\n",
              "<table border=\"1\" class=\"dataframe\">\n",
              "  <thead>\n",
              "    <tr style=\"text-align: right;\">\n",
              "      <th></th>\n",
              "      <th>Timestamp</th>\n",
              "      <th>Choose your gender</th>\n",
              "      <th>Age</th>\n",
              "      <th>What is your course?</th>\n",
              "      <th>Your current year of Study</th>\n",
              "      <th>What is your CGPA?</th>\n",
              "      <th>Marital status</th>\n",
              "      <th>Do you have Depression?</th>\n",
              "      <th>Do you have Anxiety?</th>\n",
              "      <th>Do you have Panic attack?</th>\n",
              "      <th>Did you seek any specialist for a treatment?</th>\n",
              "    </tr>\n",
              "  </thead>\n",
              "  <tbody>\n",
              "    <tr>\n",
              "      <th>96</th>\n",
              "      <td>13/07/2020 19:56:49</td>\n",
              "      <td>Female</td>\n",
              "      <td>21.0</td>\n",
              "      <td>BCS</td>\n",
              "      <td>year 1</td>\n",
              "      <td>3.50 - 4.00</td>\n",
              "      <td>No</td>\n",
              "      <td>No</td>\n",
              "      <td>Yes</td>\n",
              "      <td>No</td>\n",
              "      <td>No</td>\n",
              "    </tr>\n",
              "    <tr>\n",
              "      <th>97</th>\n",
              "      <td>13/07/2020 21:21:42</td>\n",
              "      <td>Male</td>\n",
              "      <td>18.0</td>\n",
              "      <td>Engineering</td>\n",
              "      <td>Year 2</td>\n",
              "      <td>3.00 - 3.49</td>\n",
              "      <td>No</td>\n",
              "      <td>Yes</td>\n",
              "      <td>Yes</td>\n",
              "      <td>No</td>\n",
              "      <td>No</td>\n",
              "    </tr>\n",
              "    <tr>\n",
              "      <th>98</th>\n",
              "      <td>13/07/2020 21:22:56</td>\n",
              "      <td>Female</td>\n",
              "      <td>19.0</td>\n",
              "      <td>Nursing</td>\n",
              "      <td>Year 3</td>\n",
              "      <td>3.50 - 4.00</td>\n",
              "      <td>Yes</td>\n",
              "      <td>Yes</td>\n",
              "      <td>No</td>\n",
              "      <td>Yes</td>\n",
              "      <td>No</td>\n",
              "    </tr>\n",
              "    <tr>\n",
              "      <th>99</th>\n",
              "      <td>13/07/2020 21:23:57</td>\n",
              "      <td>Female</td>\n",
              "      <td>23.0</td>\n",
              "      <td>Pendidikan Islam</td>\n",
              "      <td>year 4</td>\n",
              "      <td>3.50 - 4.00</td>\n",
              "      <td>No</td>\n",
              "      <td>No</td>\n",
              "      <td>No</td>\n",
              "      <td>No</td>\n",
              "      <td>No</td>\n",
              "    </tr>\n",
              "    <tr>\n",
              "      <th>100</th>\n",
              "      <td>18/07/2020 20:16:21</td>\n",
              "      <td>Male</td>\n",
              "      <td>20.0</td>\n",
              "      <td>Biomedical science</td>\n",
              "      <td>Year 2</td>\n",
              "      <td>3.00 - 3.49</td>\n",
              "      <td>No</td>\n",
              "      <td>No</td>\n",
              "      <td>No</td>\n",
              "      <td>No</td>\n",
              "      <td>No</td>\n",
              "    </tr>\n",
              "  </tbody>\n",
              "</table>\n",
              "</div>\n",
              "      <button class=\"colab-df-convert\" onclick=\"convertToInteractive('df-92d48cb6-0a94-4531-b525-7c0f11b8734b')\"\n",
              "              title=\"Convert this dataframe to an interactive table.\"\n",
              "              style=\"display:none;\">\n",
              "        \n",
              "  <svg xmlns=\"http://www.w3.org/2000/svg\" height=\"24px\"viewBox=\"0 0 24 24\"\n",
              "       width=\"24px\">\n",
              "    <path d=\"M0 0h24v24H0V0z\" fill=\"none\"/>\n",
              "    <path d=\"M18.56 5.44l.94 2.06.94-2.06 2.06-.94-2.06-.94-.94-2.06-.94 2.06-2.06.94zm-11 1L8.5 8.5l.94-2.06 2.06-.94-2.06-.94L8.5 2.5l-.94 2.06-2.06.94zm10 10l.94 2.06.94-2.06 2.06-.94-2.06-.94-.94-2.06-.94 2.06-2.06.94z\"/><path d=\"M17.41 7.96l-1.37-1.37c-.4-.4-.92-.59-1.43-.59-.52 0-1.04.2-1.43.59L10.3 9.45l-7.72 7.72c-.78.78-.78 2.05 0 2.83L4 21.41c.39.39.9.59 1.41.59.51 0 1.02-.2 1.41-.59l7.78-7.78 2.81-2.81c.8-.78.8-2.07 0-2.86zM5.41 20L4 18.59l7.72-7.72 1.47 1.35L5.41 20z\"/>\n",
              "  </svg>\n",
              "      </button>\n",
              "      \n",
              "  <style>\n",
              "    .colab-df-container {\n",
              "      display:flex;\n",
              "      flex-wrap:wrap;\n",
              "      gap: 12px;\n",
              "    }\n",
              "\n",
              "    .colab-df-convert {\n",
              "      background-color: #E8F0FE;\n",
              "      border: none;\n",
              "      border-radius: 50%;\n",
              "      cursor: pointer;\n",
              "      display: none;\n",
              "      fill: #1967D2;\n",
              "      height: 32px;\n",
              "      padding: 0 0 0 0;\n",
              "      width: 32px;\n",
              "    }\n",
              "\n",
              "    .colab-df-convert:hover {\n",
              "      background-color: #E2EBFA;\n",
              "      box-shadow: 0px 1px 2px rgba(60, 64, 67, 0.3), 0px 1px 3px 1px rgba(60, 64, 67, 0.15);\n",
              "      fill: #174EA6;\n",
              "    }\n",
              "\n",
              "    [theme=dark] .colab-df-convert {\n",
              "      background-color: #3B4455;\n",
              "      fill: #D2E3FC;\n",
              "    }\n",
              "\n",
              "    [theme=dark] .colab-df-convert:hover {\n",
              "      background-color: #434B5C;\n",
              "      box-shadow: 0px 1px 3px 1px rgba(0, 0, 0, 0.15);\n",
              "      filter: drop-shadow(0px 1px 2px rgba(0, 0, 0, 0.3));\n",
              "      fill: #FFFFFF;\n",
              "    }\n",
              "  </style>\n",
              "\n",
              "      <script>\n",
              "        const buttonEl =\n",
              "          document.querySelector('#df-92d48cb6-0a94-4531-b525-7c0f11b8734b button.colab-df-convert');\n",
              "        buttonEl.style.display =\n",
              "          google.colab.kernel.accessAllowed ? 'block' : 'none';\n",
              "\n",
              "        async function convertToInteractive(key) {\n",
              "          const element = document.querySelector('#df-92d48cb6-0a94-4531-b525-7c0f11b8734b');\n",
              "          const dataTable =\n",
              "            await google.colab.kernel.invokeFunction('convertToInteractive',\n",
              "                                                     [key], {});\n",
              "          if (!dataTable) return;\n",
              "\n",
              "          const docLinkHtml = 'Like what you see? Visit the ' +\n",
              "            '<a target=\"_blank\" href=https://colab.research.google.com/notebooks/data_table.ipynb>data table notebook</a>'\n",
              "            + ' to learn more about interactive tables.';\n",
              "          element.innerHTML = '';\n",
              "          dataTable['output_type'] = 'display_data';\n",
              "          await google.colab.output.renderOutput(dataTable, element);\n",
              "          const docLink = document.createElement('div');\n",
              "          docLink.innerHTML = docLinkHtml;\n",
              "          element.appendChild(docLink);\n",
              "        }\n",
              "      </script>\n",
              "    </div>\n",
              "  </div>\n",
              "  "
            ]
          },
          "metadata": {},
          "execution_count": 21
        }
      ]
    },
    {
      "cell_type": "code",
      "source": [
        "# df1 terdapat dataset dengan label target 21.0 \n",
        "df1 = df[df['Age'] == 21.0]\n",
        "\n",
        "# Menampilkan hasil filter\n",
        "print(df1)"
      ],
      "metadata": {
        "id": "7EQT_LfyebbS",
        "outputId": "3c10c497-8db0-4cf9-fc03-0a6814a7b752",
        "colab": {
          "base_uri": "https://localhost:8080/"
        }
      },
      "execution_count": null,
      "outputs": [
        {
          "output_type": "stream",
          "name": "stdout",
          "text": [
            "              Timestamp Choose your gender   Age What is your course?  \\\n",
            "1        8/7/2020 12:04               Male  21.0    Islamic education   \n",
            "55       8/7/2020 15:58               Male  21.0                  BCS   \n",
            "96  13/07/2020 19:56:49             Female  21.0                  BCS   \n",
            "\n",
            "   Your current year of Study What is your CGPA? Marital status  \\\n",
            "1                      year 2        3.00 - 3.49             No   \n",
            "55                     year 1        3.00 - 3.49             No   \n",
            "96                     year 1        3.50 - 4.00             No   \n",
            "\n",
            "   Do you have Depression? Do you have Anxiety? Do you have Panic attack?  \\\n",
            "1                       No                  Yes                        No   \n",
            "55                      No                   No                        No   \n",
            "96                      No                  Yes                        No   \n",
            "\n",
            "   Did you seek any specialist for a treatment?  \n",
            "1                                            No  \n",
            "55                                           No  \n",
            "96                                           No  \n"
          ]
        }
      ]
    },
    {
      "cell_type": "code",
      "source": [
        "# df2 dataset dengan label target mengalami depresi\n",
        "df2 = df[df['Do you have Depression?'] != 'No']\n",
        "\n",
        "# Menampilkan hasil filter\n",
        "print(df2)"
      ],
      "metadata": {
        "id": "wYEo82iYfirp",
        "outputId": "3637417e-b330-4f0d-be95-99fd64d245bc",
        "colab": {
          "base_uri": "https://localhost:8080/"
        }
      },
      "execution_count": null,
      "outputs": [
        {
          "output_type": "stream",
          "name": "stdout",
          "text": [
            "              Timestamp Choose your gender   Age What is your course?  \\\n",
            "0        8/7/2020 12:02             Female  18.0          Engineering   \n",
            "2        8/7/2020 12:05               Male  19.0                  BIT   \n",
            "3        8/7/2020 12:06             Female  22.0                 Laws   \n",
            "6        8/7/2020 12:32             Female  23.0     Pendidikan islam   \n",
            "11       8/7/2020 12:39             Female  24.0          Engineering   \n",
            "12       8/7/2020 12:40             Female  18.0                  BCS   \n",
            "17       8/7/2020 12:52             Female  24.0                  ENM   \n",
            "19       8/7/2020 13:07             Female  18.0       Marine science   \n",
            "24       8/7/2020 13:17             Female  23.0                  BCS   \n",
            "27       8/7/2020 13:41               Male  18.0          Engineering   \n",
            "28       8/7/2020 13:58             Female  24.0                  BIT   \n",
            "33       8/7/2020 14:31               Male  18.0                  BCS   \n",
            "34       8/7/2020 14:41             Female  19.0                  BIT   \n",
            "36       8/7/2020 14:43             Female  18.0                  Law   \n",
            "37       8/7/2020 14:45             Female  19.0                  BIT   \n",
            "39       8/7/2020 14:56             Female  24.0          Engineering   \n",
            "42       8/7/2020 14:58             Female  20.0           Usuluddin    \n",
            "48       8/7/2020 15:14               Male  24.0                  BCS   \n",
            "50       8/7/2020 15:27             Female  23.0                  ALA   \n",
            "53       8/7/2020 15:48             Female  20.0                  koe   \n",
            "54       8/7/2020 15:57             Female  19.0                  BCS   \n",
            "57       8/7/2020 16:21             Female  20.0                 BENL   \n",
            "65       8/7/2020 17:50             Female  23.0                Econs   \n",
            "67       8/7/2020 18:11               Male  19.0                 MHSC   \n",
            "68       8/7/2020 19:05             Female  18.0               Malcom   \n",
            "72       8/7/2020 22:35             Female  19.0                  BIT   \n",
            "76       9/7/2020 13:15             Female  23.0          Engineering   \n",
            "80  13/07/2020 10:11:26             Female  24.0       Communication    \n",
            "82  13/07/2020 10:12:26             Female  19.0          Engineering   \n",
            "85  13/07/2020 10:33:47             Female  18.0           psychology   \n",
            "87  13/07/2020 11:46:13             Female  18.0           psychology   \n",
            "92  13/07/2020 14:48:05             Female  19.0                  KOE   \n",
            "93  13/07/2020 16:15:13             Female  18.0                 BENL   \n",
            "97  13/07/2020 21:21:42               Male  18.0          Engineering   \n",
            "98  13/07/2020 21:22:56             Female  19.0             Nursing    \n",
            "\n",
            "   Your current year of Study What is your CGPA? Marital status  \\\n",
            "0                      year 1        3.00 - 3.49             No   \n",
            "2                      Year 1        3.00 - 3.49             No   \n",
            "3                      year 3        3.00 - 3.49            Yes   \n",
            "6                      year 2       3.50 - 4.00             Yes   \n",
            "11                     Year 3        3.50 - 4.00            Yes   \n",
            "12                     year 1        3.00 - 3.49             No   \n",
            "17                     year 4        3.00 - 3.49            Yes   \n",
            "19                     year 2        3.50 - 4.00            Yes   \n",
            "24                     Year 3        3.50 - 4.00             No   \n",
            "27                     Year 2        3.00 - 3.49            Yes   \n",
            "28                     Year 3        3.50 - 4.00            Yes   \n",
            "33                     Year 2        3.50 - 4.00            Yes   \n",
            "34                     year 1        3.00 - 3.49             No   \n",
            "36                     Year 3        3.00 - 3.49             No   \n",
            "37                     year 1        2.50 - 2.99             No   \n",
            "39                     Year 2        2.50 - 2.99            Yes   \n",
            "42                     year 2        3.00 - 3.49             No   \n",
            "48                     year 2        3.00 - 3.49             No   \n",
            "50                     year 1        2.50 - 2.99            Yes   \n",
            "53                     year 3        3.00 - 3.49            Yes   \n",
            "54                     year 1        3.50 - 4.00             No   \n",
            "57                     Year 3        3.00 - 3.49             No   \n",
            "65                     year 1        3.50 - 4.00             No   \n",
            "67                     Year 3        3.00 - 3.49            Yes   \n",
            "68                     year 1        3.50 - 4.00             No   \n",
            "72                     Year 3        3.00 - 3.49            Yes   \n",
            "76                     year 1        3.00 - 3.49             No   \n",
            "80                     Year 2        3.50 - 4.00            Yes   \n",
            "82                     year 1        3.00 - 3.49             No   \n",
            "85                     year 1        3.50 - 4.00             No   \n",
            "87                     year 1        3.50 - 4.00             No   \n",
            "92                     year 2        3.00 - 3.49            Yes   \n",
            "93                     year 1        3.00 - 3.49             No   \n",
            "97                     Year 2        3.00 - 3.49             No   \n",
            "98                     Year 3        3.50 - 4.00            Yes   \n",
            "\n",
            "   Do you have Depression? Do you have Anxiety? Do you have Panic attack?  \\\n",
            "0                      Yes                   No                       Yes   \n",
            "2                      Yes                  Yes                       Yes   \n",
            "3                      Yes                   No                        No   \n",
            "6                      Yes                   No                       Yes   \n",
            "11                     Yes                   No                        No   \n",
            "12                     Yes                   No                        No   \n",
            "17                     Yes                  Yes                       Yes   \n",
            "19                     Yes                  Yes                       Yes   \n",
            "24                     Yes                  Yes                       Yes   \n",
            "27                     Yes                  Yes                        No   \n",
            "28                     Yes                  Yes                       Yes   \n",
            "33                     Yes                  Yes                        No   \n",
            "34                     Yes                  Yes                       Yes   \n",
            "36                     Yes                  Yes                        No   \n",
            "37                     Yes                  Yes                       Yes   \n",
            "39                     Yes                   No                       Yes   \n",
            "42                     Yes                   No                        No   \n",
            "48                     Yes                   No                        No   \n",
            "50                     Yes                   No                       Yes   \n",
            "53                     Yes                  Yes                       Yes   \n",
            "54                     Yes                   No                       Yes   \n",
            "57                     Yes                  Yes                        No   \n",
            "65                     Yes                  Yes                        No   \n",
            "67                     Yes                   No                       Yes   \n",
            "68                     Yes                   No                        No   \n",
            "72                     Yes                   No                        No   \n",
            "76                     Yes                   No                        No   \n",
            "80                     Yes                  Yes                       Yes   \n",
            "82                     Yes                  Yes                        No   \n",
            "85                     Yes                  Yes                        No   \n",
            "87                     Yes                  Yes                       Yes   \n",
            "92                     Yes                   No                        No   \n",
            "93                     Yes                   No                        No   \n",
            "97                     Yes                  Yes                        No   \n",
            "98                     Yes                   No                       Yes   \n",
            "\n",
            "   Did you seek any specialist for a treatment?  \n",
            "0                                            No  \n",
            "2                                            No  \n",
            "3                                            No  \n",
            "6                                            No  \n",
            "11                                           No  \n",
            "12                                           No  \n",
            "17                                           No  \n",
            "19                                           No  \n",
            "24                                           No  \n",
            "27                                           No  \n",
            "28                                          Yes  \n",
            "33                                          Yes  \n",
            "34                                           No  \n",
            "36                                           No  \n",
            "37                                           No  \n",
            "39                                          Yes  \n",
            "42                                           No  \n",
            "48                                           No  \n",
            "50                                          Yes  \n",
            "53                                           No  \n",
            "54                                          Yes  \n",
            "57                                           No  \n",
            "65                                           No  \n",
            "67                                           No  \n",
            "68                                           No  \n",
            "72                                           No  \n",
            "76                                           No  \n",
            "80                                           No  \n",
            "82                                           No  \n",
            "85                                          Yes  \n",
            "87                                           No  \n",
            "92                                           No  \n",
            "93                                           No  \n",
            "97                                           No  \n",
            "98                                           No  \n"
          ]
        }
      ]
    },
    {
      "cell_type": "code",
      "source": [
        "# df3 dataset dengan label target female\n",
        "df3 = df[df['Choose your gender'] == 'Female']\n",
        "\n",
        "# Menampilkan hasil filter\n",
        "print(df3)"
      ],
      "metadata": {
        "id": "Ddw9ESmjg9K9",
        "outputId": "1bbccdc5-8bac-47ea-c6d1-818f6c42b5f1",
        "colab": {
          "base_uri": "https://localhost:8080/"
        }
      },
      "execution_count": null,
      "outputs": [
        {
          "output_type": "stream",
          "name": "stdout",
          "text": [
            "              Timestamp Choose your gender   Age What is your course?  \\\n",
            "0        8/7/2020 12:02             Female  18.0          Engineering   \n",
            "3        8/7/2020 12:06             Female  22.0                 Laws   \n",
            "6        8/7/2020 12:32             Female  23.0     Pendidikan islam   \n",
            "7        8/7/2020 12:33             Female  18.0                  BCS   \n",
            "8        8/7/2020 12:35             Female  19.0      Human Resources   \n",
            "..                  ...                ...   ...                  ...   \n",
            "94  13/07/2020 17:30:44             Female  24.0                 Fiqh   \n",
            "95  13/07/2020 19:08:32             Female  18.0    Islamic Education   \n",
            "96  13/07/2020 19:56:49             Female  21.0                  BCS   \n",
            "98  13/07/2020 21:22:56             Female  19.0             Nursing    \n",
            "99  13/07/2020 21:23:57             Female  23.0     Pendidikan Islam   \n",
            "\n",
            "   Your current year of Study What is your CGPA? Marital status  \\\n",
            "0                      year 1        3.00 - 3.49             No   \n",
            "3                      year 3        3.00 - 3.49            Yes   \n",
            "6                      year 2       3.50 - 4.00             Yes   \n",
            "7                      year 1        3.50 - 4.00             No   \n",
            "8                      Year 2        2.50 - 2.99             No   \n",
            "..                        ...                ...            ...   \n",
            "94                     Year 3           0 - 1.99             No   \n",
            "95                     year 1        3.50 - 4.00             No   \n",
            "96                     year 1        3.50 - 4.00             No   \n",
            "98                     Year 3        3.50 - 4.00            Yes   \n",
            "99                     year 4        3.50 - 4.00             No   \n",
            "\n",
            "   Do you have Depression? Do you have Anxiety? Do you have Panic attack?  \\\n",
            "0                      Yes                   No                       Yes   \n",
            "3                      Yes                   No                        No   \n",
            "6                      Yes                   No                       Yes   \n",
            "7                       No                  Yes                        No   \n",
            "8                       No                   No                        No   \n",
            "..                     ...                  ...                       ...   \n",
            "94                      No                   No                       Yes   \n",
            "95                      No                   No                        No   \n",
            "96                      No                  Yes                        No   \n",
            "98                     Yes                   No                       Yes   \n",
            "99                      No                   No                        No   \n",
            "\n",
            "   Did you seek any specialist for a treatment?  \n",
            "0                                            No  \n",
            "3                                            No  \n",
            "6                                            No  \n",
            "7                                            No  \n",
            "8                                            No  \n",
            "..                                          ...  \n",
            "94                                           No  \n",
            "95                                           No  \n",
            "96                                           No  \n",
            "98                                           No  \n",
            "99                                           No  \n",
            "\n",
            "[75 rows x 11 columns]\n"
          ]
        }
      ]
    },
    {
      "cell_type": "code",
      "source": [
        "# df4 dataset dengan label target umur dibawah 20\n",
        "df4 = df[df['Age'] < 20]\n",
        "\n",
        "# Menampilkan hasil \n",
        "print(df4)"
      ],
      "metadata": {
        "id": "wRZatekQiatX",
        "outputId": "e0a73108-e99d-4a02-82dc-84e197ef69c8",
        "colab": {
          "base_uri": "https://localhost:8080/"
        }
      },
      "execution_count": null,
      "outputs": [
        {
          "output_type": "stream",
          "name": "stdout",
          "text": [
            "              Timestamp Choose your gender   Age What is your course?  \\\n",
            "0        8/7/2020 12:02             Female  18.0          Engineering   \n",
            "2        8/7/2020 12:05               Male  19.0                  BIT   \n",
            "5        8/7/2020 12:31               Male  19.0          Engineering   \n",
            "7        8/7/2020 12:33             Female  18.0                  BCS   \n",
            "8        8/7/2020 12:35             Female  19.0      Human Resources   \n",
            "9        8/7/2020 12:39               Male  18.0                Irkhs   \n",
            "12       8/7/2020 12:40             Female  18.0                  BCS   \n",
            "13       8/7/2020 12:41               Male  19.0          Engineering   \n",
            "14       8/7/2020 12:43             Female  18.0                KENMS   \n",
            "19       8/7/2020 13:07             Female  18.0       Marine science   \n",
            "20       8/7/2020 13:12             Female  19.0          Engineering   \n",
            "21       8/7/2020 13:13             Female  18.0                  KOE   \n",
            "25       8/7/2020 13:29             Female  18.0      Banking Studies   \n",
            "26       8/7/2020 13:35             Female  19.0          Engineering   \n",
            "27       8/7/2020 13:41               Male  18.0          Engineering   \n",
            "31       8/7/2020 14:29               Male  18.0                  BCS   \n",
            "32       8/7/2020 14:29               Male  19.0                  BCS   \n",
            "33       8/7/2020 14:31               Male  18.0                  BCS   \n",
            "34       8/7/2020 14:41             Female  19.0                  BIT   \n",
            "35       8/7/2020 14:43             Female  18.0          Engineering   \n",
            "36       8/7/2020 14:43             Female  18.0                  Law   \n",
            "37       8/7/2020 14:45             Female  19.0                  BIT   \n",
            "38       8/7/2020 14:47             Female  18.0               KIRKHS   \n",
            "45       8/7/2020 15:09               Male  18.0                  BCS   \n",
            "46       8/7/2020 15:12             Female  19.0          Engineering   \n",
            "47       8/7/2020 15:14             Female  18.0               Engine   \n",
            "51       8/7/2020 15:37             Female  18.0                  BCS   \n",
            "52       8/7/2020 15:47             Female  19.0   Biomedical science   \n",
            "54       8/7/2020 15:57             Female  19.0                  BCS   \n",
            "58       8/7/2020 16:22             Female  18.0                  BCS   \n",
            "60       8/7/2020 16:34             Female  18.0                   IT   \n",
            "61       8/7/2020 16:53             Female  19.0                  BCS   \n",
            "62       8/7/2020 17:05             Female  18.0                  CTS   \n",
            "66       8/7/2020 18:10             Female  18.0                  KOE   \n",
            "67       8/7/2020 18:11               Male  19.0                 MHSC   \n",
            "68       8/7/2020 19:05             Female  18.0               Malcom   \n",
            "71       8/7/2020 21:21             Female  18.0                 Laws   \n",
            "72       8/7/2020 22:35             Female  19.0                  BIT   \n",
            "73        9/7/2020 6:57               Male  18.0   Biomedical science   \n",
            "77       9/7/2020 18:24             Female  18.0      Human Sciences    \n",
            "78  13/07/2020 10:07:32             Female  19.0        Biotechnology   \n",
            "79  13/07/2020 10:10:30             Female  18.0          Engineering   \n",
            "82  13/07/2020 10:12:26             Female  19.0          Engineering   \n",
            "83  13/07/2020 10:12:28             Female  19.0    Pendidikan Islam    \n",
            "85  13/07/2020 10:33:47             Female  18.0           psychology   \n",
            "86  13/07/2020 10:34:08             Female  19.0          Fiqh fatwa    \n",
            "87  13/07/2020 11:46:13             Female  18.0           psychology   \n",
            "91  13/07/2020 14:38:12               Male  18.0                  Koe   \n",
            "92  13/07/2020 14:48:05             Female  19.0                  KOE   \n",
            "93  13/07/2020 16:15:13             Female  18.0                 BENL   \n",
            "95  13/07/2020 19:08:32             Female  18.0    Islamic Education   \n",
            "97  13/07/2020 21:21:42               Male  18.0          Engineering   \n",
            "98  13/07/2020 21:22:56             Female  19.0             Nursing    \n",
            "\n",
            "   Your current year of Study What is your CGPA? Marital status  \\\n",
            "0                      year 1        3.00 - 3.49             No   \n",
            "2                      Year 1        3.00 - 3.49             No   \n",
            "5                      Year 2        3.50 - 4.00             No   \n",
            "7                      year 1        3.50 - 4.00             No   \n",
            "8                      Year 2        2.50 - 2.99             No   \n",
            "9                      year 1        3.50 - 4.00             No   \n",
            "12                     year 1        3.00 - 3.49             No   \n",
            "13                     year 1        3.00 - 3.49             No   \n",
            "14                     Year 2        3.50 - 4.00             No   \n",
            "19                     year 2        3.50 - 4.00            Yes   \n",
            "20                     year 1        3.00 - 3.49             No   \n",
            "21                     Year 2        3.00 - 3.49             No   \n",
            "25                     year 1        3.50 - 4.00             No   \n",
            "26                     year 1        3.50 - 4.00             No   \n",
            "27                     Year 2        3.00 - 3.49            Yes   \n",
            "31                     year 2        3.00 - 3.49             No   \n",
            "32                     year 1        3.50 - 4.00             No   \n",
            "33                     Year 2        3.50 - 4.00            Yes   \n",
            "34                     year 1        3.00 - 3.49             No   \n",
            "35                     year 1        2.00 - 2.49             No   \n",
            "36                     Year 3        3.00 - 3.49             No   \n",
            "37                     year 1        2.50 - 2.99             No   \n",
            "38                     year 1        3.50 - 4.00             No   \n",
            "45                     year 1        3.50 - 4.00             No   \n",
            "46                     year 1        3.50 - 4.00             No   \n",
            "47                     year 4        3.50 - 4.00             No   \n",
            "51                     year 2        3.50 - 4.00             No   \n",
            "52                     year 3        3.00 - 3.49             No   \n",
            "54                     year 1        3.50 - 4.00             No   \n",
            "58                     year 1        3.50 - 4.00             No   \n",
            "60                     Year 3        3.00 - 3.49             No   \n",
            "61                     year 1        3.50 - 4.00             No   \n",
            "62                     Year 1        3.50 - 4.00             No   \n",
            "66                     Year 3        3.00 - 3.49             No   \n",
            "67                     Year 3        3.00 - 3.49            Yes   \n",
            "68                     year 1        3.50 - 4.00             No   \n",
            "71                     Year 3        3.50 - 4.00             No   \n",
            "72                     Year 3        3.00 - 3.49            Yes   \n",
            "73                     year 1           0 - 1.99             No   \n",
            "77                     Year 2        3.00 - 3.49             No   \n",
            "78                     Year 3           0 - 1.99             No   \n",
            "79                     year 4        3.50 - 4.00             No   \n",
            "82                     year 1        3.00 - 3.49             No   \n",
            "83                     Year 2        3.00 - 3.49             No   \n",
            "85                     year 1        3.50 - 4.00             No   \n",
            "86                     Year 3        3.00 - 3.49             No   \n",
            "87                     year 1        3.50 - 4.00             No   \n",
            "91                     Year 2        3.00 - 3.49             No   \n",
            "92                     year 2        3.00 - 3.49            Yes   \n",
            "93                     year 1        3.00 - 3.49             No   \n",
            "95                     year 1        3.50 - 4.00             No   \n",
            "97                     Year 2        3.00 - 3.49             No   \n",
            "98                     Year 3        3.50 - 4.00            Yes   \n",
            "\n",
            "   Do you have Depression? Do you have Anxiety? Do you have Panic attack?  \\\n",
            "0                      Yes                   No                       Yes   \n",
            "2                      Yes                  Yes                       Yes   \n",
            "5                       No                   No                       Yes   \n",
            "7                       No                  Yes                        No   \n",
            "8                       No                   No                        No   \n",
            "9                       No                  Yes                       Yes   \n",
            "12                     Yes                   No                        No   \n",
            "13                      No                   No                        No   \n",
            "14                      No                  Yes                        No   \n",
            "19                     Yes                  Yes                       Yes   \n",
            "20                      No                   No                       Yes   \n",
            "21                      No                   No                        No   \n",
            "25                      No                   No                        No   \n",
            "26                      No                   No                        No   \n",
            "27                     Yes                  Yes                        No   \n",
            "31                      No                   No                        No   \n",
            "32                      No                   No                       Yes   \n",
            "33                     Yes                  Yes                        No   \n",
            "34                     Yes                  Yes                       Yes   \n",
            "35                      No                   No                        No   \n",
            "36                     Yes                  Yes                        No   \n",
            "37                     Yes                  Yes                       Yes   \n",
            "38                      No                   No                        No   \n",
            "45                      No                  Yes                       Yes   \n",
            "46                      No                  Yes                        No   \n",
            "47                      No                   No                        No   \n",
            "51                      No                  Yes                        No   \n",
            "52                      No                   No                        No   \n",
            "54                     Yes                   No                       Yes   \n",
            "58                      No                   No                        No   \n",
            "60                      No                   No                       Yes   \n",
            "61                      No                   No                        No   \n",
            "62                      No                   No                       Yes   \n",
            "66                      No                  Yes                        No   \n",
            "67                     Yes                   No                       Yes   \n",
            "68                     Yes                   No                        No   \n",
            "71                      No                   No                       Yes   \n",
            "72                     Yes                   No                        No   \n",
            "73                      No                   No                        No   \n",
            "77                      No                   No                       Yes   \n",
            "78                      No                   No                        No   \n",
            "79                      No                   No                        No   \n",
            "82                     Yes                  Yes                        No   \n",
            "83                      No                   No                        No   \n",
            "85                     Yes                  Yes                        No   \n",
            "86                      No                   No                        No   \n",
            "87                     Yes                  Yes                       Yes   \n",
            "91                      No                  Yes                        No   \n",
            "92                     Yes                   No                        No   \n",
            "93                     Yes                   No                        No   \n",
            "95                      No                   No                        No   \n",
            "97                     Yes                  Yes                        No   \n",
            "98                     Yes                   No                       Yes   \n",
            "\n",
            "   Did you seek any specialist for a treatment?  \n",
            "0                                            No  \n",
            "2                                            No  \n",
            "5                                            No  \n",
            "7                                            No  \n",
            "8                                            No  \n",
            "9                                            No  \n",
            "12                                           No  \n",
            "13                                           No  \n",
            "14                                           No  \n",
            "19                                           No  \n",
            "20                                           No  \n",
            "21                                           No  \n",
            "25                                           No  \n",
            "26                                           No  \n",
            "27                                           No  \n",
            "31                                           No  \n",
            "32                                           No  \n",
            "33                                          Yes  \n",
            "34                                           No  \n",
            "35                                           No  \n",
            "36                                           No  \n",
            "37                                           No  \n",
            "38                                           No  \n",
            "45                                           No  \n",
            "46                                           No  \n",
            "47                                           No  \n",
            "51                                           No  \n",
            "52                                           No  \n",
            "54                                          Yes  \n",
            "58                                           No  \n",
            "60                                           No  \n",
            "61                                           No  \n",
            "62                                           No  \n",
            "66                                           No  \n",
            "67                                           No  \n",
            "68                                           No  \n",
            "71                                           No  \n",
            "72                                           No  \n",
            "73                                           No  \n",
            "77                                           No  \n",
            "78                                           No  \n",
            "79                                           No  \n",
            "82                                           No  \n",
            "83                                           No  \n",
            "85                                          Yes  \n",
            "86                                           No  \n",
            "87                                           No  \n",
            "91                                           No  \n",
            "92                                           No  \n",
            "93                                           No  \n",
            "95                                           No  \n",
            "97                                           No  \n",
            "98                                           No  \n"
          ]
        }
      ]
    },
    {
      "cell_type": "code",
      "source": [
        "df.info()"
      ],
      "metadata": {
        "id": "zoaAXqpei9RS",
        "outputId": "3fb05246-8903-449a-bc76-c6b72cef0562",
        "colab": {
          "base_uri": "https://localhost:8080/"
        }
      },
      "execution_count": null,
      "outputs": [
        {
          "output_type": "stream",
          "name": "stdout",
          "text": [
            "<class 'pandas.core.frame.DataFrame'>\n",
            "RangeIndex: 101 entries, 0 to 100\n",
            "Data columns (total 11 columns):\n",
            " #   Column                                        Non-Null Count  Dtype  \n",
            "---  ------                                        --------------  -----  \n",
            " 0   Timestamp                                     101 non-null    object \n",
            " 1   Choose your gender                            101 non-null    object \n",
            " 2   Age                                           100 non-null    float64\n",
            " 3   What is your course?                          101 non-null    object \n",
            " 4   Your current year of Study                    101 non-null    object \n",
            " 5   What is your CGPA?                            101 non-null    object \n",
            " 6   Marital status                                101 non-null    object \n",
            " 7   Do you have Depression?                       101 non-null    object \n",
            " 8   Do you have Anxiety?                          101 non-null    object \n",
            " 9   Do you have Panic attack?                     101 non-null    object \n",
            " 10  Did you seek any specialist for a treatment?  101 non-null    object \n",
            "dtypes: float64(1), object(10)\n",
            "memory usage: 8.8+ KB\n"
          ]
        }
      ]
    },
    {
      "cell_type": "code",
      "source": [
        "df.select_dtypes(include=np.number)"
      ],
      "metadata": {
        "id": "SGJBhCxsjBzF",
        "outputId": "01538219-f7ad-4fc5-cfcd-e2722816e9bf",
        "colab": {
          "base_uri": "https://localhost:8080/",
          "height": 423
        }
      },
      "execution_count": null,
      "outputs": [
        {
          "output_type": "execute_result",
          "data": {
            "text/plain": [
              "      Age\n",
              "0    18.0\n",
              "1    21.0\n",
              "2    19.0\n",
              "3    22.0\n",
              "4    23.0\n",
              "..    ...\n",
              "96   21.0\n",
              "97   18.0\n",
              "98   19.0\n",
              "99   23.0\n",
              "100  20.0\n",
              "\n",
              "[101 rows x 1 columns]"
            ],
            "text/html": [
              "\n",
              "  <div id=\"df-1d017ccf-8d14-4a47-92fd-4013917e892e\">\n",
              "    <div class=\"colab-df-container\">\n",
              "      <div>\n",
              "<style scoped>\n",
              "    .dataframe tbody tr th:only-of-type {\n",
              "        vertical-align: middle;\n",
              "    }\n",
              "\n",
              "    .dataframe tbody tr th {\n",
              "        vertical-align: top;\n",
              "    }\n",
              "\n",
              "    .dataframe thead th {\n",
              "        text-align: right;\n",
              "    }\n",
              "</style>\n",
              "<table border=\"1\" class=\"dataframe\">\n",
              "  <thead>\n",
              "    <tr style=\"text-align: right;\">\n",
              "      <th></th>\n",
              "      <th>Age</th>\n",
              "    </tr>\n",
              "  </thead>\n",
              "  <tbody>\n",
              "    <tr>\n",
              "      <th>0</th>\n",
              "      <td>18.0</td>\n",
              "    </tr>\n",
              "    <tr>\n",
              "      <th>1</th>\n",
              "      <td>21.0</td>\n",
              "    </tr>\n",
              "    <tr>\n",
              "      <th>2</th>\n",
              "      <td>19.0</td>\n",
              "    </tr>\n",
              "    <tr>\n",
              "      <th>3</th>\n",
              "      <td>22.0</td>\n",
              "    </tr>\n",
              "    <tr>\n",
              "      <th>4</th>\n",
              "      <td>23.0</td>\n",
              "    </tr>\n",
              "    <tr>\n",
              "      <th>...</th>\n",
              "      <td>...</td>\n",
              "    </tr>\n",
              "    <tr>\n",
              "      <th>96</th>\n",
              "      <td>21.0</td>\n",
              "    </tr>\n",
              "    <tr>\n",
              "      <th>97</th>\n",
              "      <td>18.0</td>\n",
              "    </tr>\n",
              "    <tr>\n",
              "      <th>98</th>\n",
              "      <td>19.0</td>\n",
              "    </tr>\n",
              "    <tr>\n",
              "      <th>99</th>\n",
              "      <td>23.0</td>\n",
              "    </tr>\n",
              "    <tr>\n",
              "      <th>100</th>\n",
              "      <td>20.0</td>\n",
              "    </tr>\n",
              "  </tbody>\n",
              "</table>\n",
              "<p>101 rows × 1 columns</p>\n",
              "</div>\n",
              "      <button class=\"colab-df-convert\" onclick=\"convertToInteractive('df-1d017ccf-8d14-4a47-92fd-4013917e892e')\"\n",
              "              title=\"Convert this dataframe to an interactive table.\"\n",
              "              style=\"display:none;\">\n",
              "        \n",
              "  <svg xmlns=\"http://www.w3.org/2000/svg\" height=\"24px\"viewBox=\"0 0 24 24\"\n",
              "       width=\"24px\">\n",
              "    <path d=\"M0 0h24v24H0V0z\" fill=\"none\"/>\n",
              "    <path d=\"M18.56 5.44l.94 2.06.94-2.06 2.06-.94-2.06-.94-.94-2.06-.94 2.06-2.06.94zm-11 1L8.5 8.5l.94-2.06 2.06-.94-2.06-.94L8.5 2.5l-.94 2.06-2.06.94zm10 10l.94 2.06.94-2.06 2.06-.94-2.06-.94-.94-2.06-.94 2.06-2.06.94z\"/><path d=\"M17.41 7.96l-1.37-1.37c-.4-.4-.92-.59-1.43-.59-.52 0-1.04.2-1.43.59L10.3 9.45l-7.72 7.72c-.78.78-.78 2.05 0 2.83L4 21.41c.39.39.9.59 1.41.59.51 0 1.02-.2 1.41-.59l7.78-7.78 2.81-2.81c.8-.78.8-2.07 0-2.86zM5.41 20L4 18.59l7.72-7.72 1.47 1.35L5.41 20z\"/>\n",
              "  </svg>\n",
              "      </button>\n",
              "      \n",
              "  <style>\n",
              "    .colab-df-container {\n",
              "      display:flex;\n",
              "      flex-wrap:wrap;\n",
              "      gap: 12px;\n",
              "    }\n",
              "\n",
              "    .colab-df-convert {\n",
              "      background-color: #E8F0FE;\n",
              "      border: none;\n",
              "      border-radius: 50%;\n",
              "      cursor: pointer;\n",
              "      display: none;\n",
              "      fill: #1967D2;\n",
              "      height: 32px;\n",
              "      padding: 0 0 0 0;\n",
              "      width: 32px;\n",
              "    }\n",
              "\n",
              "    .colab-df-convert:hover {\n",
              "      background-color: #E2EBFA;\n",
              "      box-shadow: 0px 1px 2px rgba(60, 64, 67, 0.3), 0px 1px 3px 1px rgba(60, 64, 67, 0.15);\n",
              "      fill: #174EA6;\n",
              "    }\n",
              "\n",
              "    [theme=dark] .colab-df-convert {\n",
              "      background-color: #3B4455;\n",
              "      fill: #D2E3FC;\n",
              "    }\n",
              "\n",
              "    [theme=dark] .colab-df-convert:hover {\n",
              "      background-color: #434B5C;\n",
              "      box-shadow: 0px 1px 3px 1px rgba(0, 0, 0, 0.15);\n",
              "      filter: drop-shadow(0px 1px 2px rgba(0, 0, 0, 0.3));\n",
              "      fill: #FFFFFF;\n",
              "    }\n",
              "  </style>\n",
              "\n",
              "      <script>\n",
              "        const buttonEl =\n",
              "          document.querySelector('#df-1d017ccf-8d14-4a47-92fd-4013917e892e button.colab-df-convert');\n",
              "        buttonEl.style.display =\n",
              "          google.colab.kernel.accessAllowed ? 'block' : 'none';\n",
              "\n",
              "        async function convertToInteractive(key) {\n",
              "          const element = document.querySelector('#df-1d017ccf-8d14-4a47-92fd-4013917e892e');\n",
              "          const dataTable =\n",
              "            await google.colab.kernel.invokeFunction('convertToInteractive',\n",
              "                                                     [key], {});\n",
              "          if (!dataTable) return;\n",
              "\n",
              "          const docLinkHtml = 'Like what you see? Visit the ' +\n",
              "            '<a target=\"_blank\" href=https://colab.research.google.com/notebooks/data_table.ipynb>data table notebook</a>'\n",
              "            + ' to learn more about interactive tables.';\n",
              "          element.innerHTML = '';\n",
              "          dataTable['output_type'] = 'display_data';\n",
              "          await google.colab.output.renderOutput(dataTable, element);\n",
              "          const docLink = document.createElement('div');\n",
              "          docLink.innerHTML = docLinkHtml;\n",
              "          element.appendChild(docLink);\n",
              "        }\n",
              "      </script>\n",
              "    </div>\n",
              "  </div>\n",
              "  "
            ]
          },
          "metadata": {},
          "execution_count": 27
        }
      ]
    },
    {
      "cell_type": "code",
      "source": [
        "def tampil(kolom):\n",
        "  dfnum = df[kolom]\n",
        "\n",
        "  print(\"Nilai minimum         :\", dfnum.min())\n",
        "  print(\"Nilai maximum         :\", dfnum.max())"
      ],
      "metadata": {
        "id": "_JNURXvMjQzl"
      },
      "execution_count": null,
      "outputs": []
    },
    {
      "cell_type": "code",
      "source": [
        "tampil(\"Age\")"
      ],
      "metadata": {
        "id": "zcKedfC0josP",
        "outputId": "6de7b40a-29b4-4e6d-d9ec-47d7f5ac6325",
        "colab": {
          "base_uri": "https://localhost:8080/"
        }
      },
      "execution_count": null,
      "outputs": [
        {
          "output_type": "stream",
          "name": "stdout",
          "text": [
            "Nilai minimum         : 18.0\n",
            "Nilai maximum         : 24.0\n"
          ]
        }
      ]
    },
    {
      "cell_type": "code",
      "source": [
        "tampil(\"Your current year of Study\")"
      ],
      "metadata": {
        "id": "qRm6T3tVlpFn",
        "outputId": "2bf577ee-a167-48fa-afcd-c7963c65abd1",
        "colab": {
          "base_uri": "https://localhost:8080/"
        }
      },
      "execution_count": null,
      "outputs": [
        {
          "output_type": "stream",
          "name": "stdout",
          "text": [
            "Nilai minimum         : Year 1\n",
            "Nilai maximum         : year 4\n"
          ]
        }
      ]
    },
    {
      "cell_type": "code",
      "source": [
        "tampil(\"What is your CGPA?\")"
      ],
      "metadata": {
        "id": "aXf8fCZMmmrJ",
        "outputId": "12660e98-61f0-4f22-c932-93e47a0886c8",
        "colab": {
          "base_uri": "https://localhost:8080/"
        }
      },
      "execution_count": null,
      "outputs": [
        {
          "output_type": "stream",
          "name": "stdout",
          "text": [
            "Nilai minimum         : 0 - 1.99\n",
            "Nilai maximum         : 3.50 - 4.00 \n"
          ]
        }
      ]
    },
    {
      "cell_type": "markdown",
      "source": [
        "#Explore Data"
      ],
      "metadata": {
        "id": "WVX1GhSbm03Z"
      }
    },
    {
      "cell_type": "markdown",
      "source": [
        "##Visualisasi Comparison"
      ],
      "metadata": {
        "id": "rdD_en6am-HP"
      }
    },
    {
      "cell_type": "code",
      "source": [
        "import numpy as np # linear algebra\n",
        "import pandas as pd # data processing, CSV file I/O (e.g. pd.read_csv)\n",
        "import matplotlib.pyplot as plt\n",
        "import seaborn as sns\n",
        "from collections import Counter\n",
        "%matplotlib inline"
      ],
      "metadata": {
        "id": "F2_bokwFnGcH"
      },
      "execution_count": null,
      "outputs": []
    },
    {
      "cell_type": "code",
      "source": [
        "country_count = Counter(df['Age'].dropna().tolist()).most_common(10)\n",
        "country_idx = [country[0] for country in country_count]\n",
        "country_val = [country[1] for country in country_count]\n",
        "fig,ax = plt.subplots(figsize=(10,5))\n",
        "sns.barplot(x = country_idx,y=country_val ,ax =ax)\n",
        "plt.title('Age')\n",
        "plt.xlabel('21.0')\n",
        "plt.ylabel('21.0')\n",
        "ticks = plt.setp(ax.get_xticklabels(),rotation=90)"
      ],
      "metadata": {
        "id": "7jf88IYVnfxh",
        "outputId": "6dc567d5-66f1-497a-9462-10d3b7f773ca",
        "colab": {
          "base_uri": "https://localhost:8080/",
          "height": 514
        }
      },
      "execution_count": null,
      "outputs": [
        {
          "output_type": "display_data",
          "data": {
            "text/plain": [
              "<Figure size 1000x500 with 1 Axes>"
            ],
            "image/png": "[encoded data removed]"
          },
          "metadata": {}
        }
      ]
    },
    {
      "cell_type": "code",
      "source": [
        "df.describe()"
      ],
      "metadata": {
        "colab": {
          "base_uri": "https://localhost:8080/",
          "height": 300
        },
        "id": "hWYt7yJHpg1y",
        "outputId": "fc82abcf-d647-4a22-90c9-7e8fc2917664"
      },
      "execution_count": null,
      "outputs": [
        {
          "output_type": "execute_result",
          "data": {
            "text/plain": [
              "             Age\n",
              "count  100.00000\n",
              "mean    20.53000\n",
              "std      2.49628\n",
              "min     18.00000\n",
              "25%     18.00000\n",
              "50%     19.00000\n",
              "75%     23.00000\n",
              "max     24.00000"
            ],
            "text/html": [
              "\n",
              "  <div id=\"df-82e7e829-b63d-437a-810f-6959c6c15f90\">\n",
              "    <div class=\"colab-df-container\">\n",
              "      <div>\n",
              "<style scoped>\n",
              "    .dataframe tbody tr th:only-of-type {\n",
              "        vertical-align: middle;\n",
              "    }\n",
              "\n",
              "    .dataframe tbody tr th {\n",
              "        vertical-align: top;\n",
              "    }\n",
              "\n",
              "    .dataframe thead th {\n",
              "        text-align: right;\n",
              "    }\n",
              "</style>\n",
              "<table border=\"1\" class=\"dataframe\">\n",
              "  <thead>\n",
              "    <tr style=\"text-align: right;\">\n",
              "      <th></th>\n",
              "      <th>Age</th>\n",
              "    </tr>\n",
              "  </thead>\n",
              "  <tbody>\n",
              "    <tr>\n",
              "      <th>count</th>\n",
              "      <td>100.00000</td>\n",
              "    </tr>\n",
              "    <tr>\n",
              "      <th>mean</th>\n",
              "      <td>20.53000</td>\n",
              "    </tr>\n",
              "    <tr>\n",
              "      <th>std</th>\n",
              "      <td>2.49628</td>\n",
              "    </tr>\n",
              "    <tr>\n",
              "      <th>min</th>\n",
              "      <td>18.00000</td>\n",
              "    </tr>\n",
              "    <tr>\n",
              "      <th>25%</th>\n",
              "      <td>18.00000</td>\n",
              "    </tr>\n",
              "    <tr>\n",
              "      <th>50%</th>\n",
              "      <td>19.00000</td>\n",
              "    </tr>\n",
              "    <tr>\n",
              "      <th>75%</th>\n",
              "      <td>23.00000</td>\n",
              "    </tr>\n",
              "    <tr>\n",
              "      <th>max</th>\n",
              "      <td>24.00000</td>\n",
              "    </tr>\n",
              "  </tbody>\n",
              "</table>\n",
              "</div>\n",
              "      <button class=\"colab-df-convert\" onclick=\"convertToInteractive('df-82e7e829-b63d-437a-810f-6959c6c15f90')\"\n",
              "              title=\"Convert this dataframe to an interactive table.\"\n",
              "              style=\"display:none;\">\n",
              "        \n",
              "  <svg xmlns=\"http://www.w3.org/2000/svg\" height=\"24px\"viewBox=\"0 0 24 24\"\n",
              "       width=\"24px\">\n",
              "    <path d=\"M0 0h24v24H0V0z\" fill=\"none\"/>\n",
              "    <path d=\"M18.56 5.44l.94 2.06.94-2.06 2.06-.94-2.06-.94-.94-2.06-.94 2.06-2.06.94zm-11 1L8.5 8.5l.94-2.06 2.06-.94-2.06-.94L8.5 2.5l-.94 2.06-2.06.94zm10 10l.94 2.06.94-2.06 2.06-.94-2.06-.94-.94-2.06-.94 2.06-2.06.94z\"/><path d=\"M17.41 7.96l-1.37-1.37c-.4-.4-.92-.59-1.43-.59-.52 0-1.04.2-1.43.59L10.3 9.45l-7.72 7.72c-.78.78-.78 2.05 0 2.83L4 21.41c.39.39.9.59 1.41.59.51 0 1.02-.2 1.41-.59l7.78-7.78 2.81-2.81c.8-.78.8-2.07 0-2.86zM5.41 20L4 18.59l7.72-7.72 1.47 1.35L5.41 20z\"/>\n",
              "  </svg>\n",
              "      </button>\n",
              "      \n",
              "  <style>\n",
              "    .colab-df-container {\n",
              "      display:flex;\n",
              "      flex-wrap:wrap;\n",
              "      gap: 12px;\n",
              "    }\n",
              "\n",
              "    .colab-df-convert {\n",
              "      background-color: #E8F0FE;\n",
              "      border: none;\n",
              "      border-radius: 50%;\n",
              "      cursor: pointer;\n",
              "      display: none;\n",
              "      fill: #1967D2;\n",
              "      height: 32px;\n",
              "      padding: 0 0 0 0;\n",
              "      width: 32px;\n",
              "    }\n",
              "\n",
              "    .colab-df-convert:hover {\n",
              "      background-color: #E2EBFA;\n",
              "      box-shadow: 0px 1px 2px rgba(60, 64, 67, 0.3), 0px 1px 3px 1px rgba(60, 64, 67, 0.15);\n",
              "      fill: #174EA6;\n",
              "    }\n",
              "\n",
              "    [theme=dark] .colab-df-convert {\n",
              "      background-color: #3B4455;\n",
              "      fill: #D2E3FC;\n",
              "    }\n",
              "\n",
              "    [theme=dark] .colab-df-convert:hover {\n",
              "      background-color: #434B5C;\n",
              "      box-shadow: 0px 1px 3px 1px rgba(0, 0, 0, 0.15);\n",
              "      filter: drop-shadow(0px 1px 2px rgba(0, 0, 0, 0.3));\n",
              "      fill: #FFFFFF;\n",
              "    }\n",
              "  </style>\n",
              "\n",
              "      <script>\n",
              "        const buttonEl =\n",
              "          document.querySelector('#df-82e7e829-b63d-437a-810f-6959c6c15f90 button.colab-df-convert');\n",
              "        buttonEl.style.display =\n",
              "          google.colab.kernel.accessAllowed ? 'block' : 'none';\n",
              "\n",
              "        async function convertToInteractive(key) {\n",
              "          const element = document.querySelector('#df-82e7e829-b63d-437a-810f-6959c6c15f90');\n",
              "          const dataTable =\n",
              "            await google.colab.kernel.invokeFunction('convertToInteractive',\n",
              "                                                     [key], {});\n",
              "          if (!dataTable) return;\n",
              "\n",
              "          const docLinkHtml = 'Like what you see? Visit the ' +\n",
              "            '<a target=\"_blank\" href=https://colab.research.google.com/notebooks/data_table.ipynb>data table notebook</a>'\n",
              "            + ' to learn more about interactive tables.';\n",
              "          element.innerHTML = '';\n",
              "          dataTable['output_type'] = 'display_data';\n",
              "          await google.colab.output.renderOutput(dataTable, element);\n",
              "          const docLink = document.createElement('div');\n",
              "          docLink.innerHTML = docLinkHtml;\n",
              "          element.appendChild(docLink);\n",
              "        }\n",
              "      </script>\n",
              "    </div>\n",
              "  </div>\n",
              "  "
            ]
          },
          "metadata": {},
          "execution_count": 34
        }
      ]
    },
    {
      "cell_type": "code",
      "source": [
        "fig, ax = plt.subplots(figsize = (14, 6))\n",
        "max_width = 13\n",
        "\n",
        "index = df['What is your CGPA?'].fillna('3.00-3.49').value_counts().index[0:4]\n",
        "count = df['What is your CGPA?'].fillna('3.00-3.49').value_counts()[0:4]\n",
        "sns.barplot(x = index, y = count, order = index)\n",
        "ax.set_title('Data Keseluruhan CGPA dan Age', fontsize = 18)\n",
        "\n",
        "for i, count in enumerate(count):\n",
        "    ax.text(x=i-0.1 , y =count+0 , s=f\"{count}\" , fontdict=dict(fontsize=10))\n",
        "ax.set_ylabel('Age', fontsize = 14)\n",
        "ax.set_ylim(0, df['Marital status'].fillna('3.00-3.49').value_counts()[0]+10)\n",
        "\n",
        "plt.show()"
      ],
      "metadata": {
        "colab": {
          "base_uri": "https://localhost:8080/",
          "height": 552
        },
        "id": "sWelQsX-pvps",
        "outputId": "1abfe6ee-fe03-48b1-8bf7-80d0b64d2dac"
      },
      "execution_count": null,
      "outputs": [
        {
          "output_type": "display_data",
          "data": {
            "text/plain": [
              "<Figure size 1400x600 with 1 Axes>"
            ],
            "image/png": "[encoded data removed]"
          },
          "metadata": {}
        }
      ]
    },
    {
      "cell_type": "markdown",
      "source": [
        "##Visualisasi Distribution"
      ],
      "metadata": {
        "id": "7i3CVnP4xHhT"
      }
    },
    {
      "cell_type": "code",
      "source": [
        "# Mendefinisikan Kolom pada list \n",
        "num_cols = ['Marital status', 'Age']\n",
        "\n",
        "# Membuat diagram\n",
        "fig, ax = plt.subplots(2, figsize=(14, 14))\n",
        "fig.tight_layout(pad=2)\n",
        "\n",
        "for ax, col in zip(ax.flatten(), num_cols):\n",
        "    sns.histplot(ax=ax, data=df, x=col, kde=True, stat='density')\n",
        "    ax.set_title(col, fontsize=18)\n",
        "    \n",
        "\n",
        "plt.show()"
      ],
      "metadata": {
        "colab": {
          "base_uri": "https://localhost:8080/",
          "height": 1000
        },
        "id": "EPlynm4bxGpx",
        "outputId": "c7fc7c72-4404-4df2-9780-263430cbb9c0"
      },
      "execution_count": null,
      "outputs": [
        {
          "output_type": "display_data",
          "data": {
            "text/plain": [
              "<Figure size 1400x1400 with 2 Axes>"
            ],
            "image/png": "[encoded data removed]"
          },
          "metadata": {}
        }
      ]
    },
    {
      "cell_type": "code",
      "source": [
        "num_cols = ['Age', 'Age']\n",
        "\n",
        "fig, ax = plt.subplots(len(num_cols), 1, figsize = (10, 10))\n",
        "fig.tight_layout(pad = 8)\n",
        "\n",
        "for i, col in enumerate(num_cols):\n",
        "    sns.boxplot(ax = ax[i], x = df[col], orient = 'h', color = 'aqua')\n",
        "    ax[i].set_title(col, fontsize = 18)\n",
        "\n",
        "plt.show()"
      ],
      "metadata": {
        "colab": {
          "base_uri": "https://localhost:8080/",
          "height": 815
        },
        "id": "5n_E3RnUyp5z",
        "outputId": "5f8e2e48-646a-4406-d18d-f9da29a1a30d"
      },
      "execution_count": null,
      "outputs": [
        {
          "output_type": "display_data",
          "data": {
            "text/plain": [
              "<Figure size 1000x1000 with 2 Axes>"
            ],
            "image/png": "[encoded data removed]"
          },
          "metadata": {}
        }
      ]
    },
    {
      "cell_type": "markdown",
      "source": [
        "##Visualisasi Relationship"
      ],
      "metadata": {
        "id": "KK92rX7qz1M5"
      }
    },
    {
      "cell_type": "code",
      "source": [
        "fig, ax = plt.subplots(figsize=(12, 8))\n",
        "sns.scatterplot(data=df, x=\"Do you have Anxiety?\", y=\"Age\")\n",
        "ax.set_title('Anxiety yang berdasarkan Age', fontsize=18)\n",
        "ax.set_xlabel('Do you have Anxiety?', fontsize=14)\n",
        "ax.set_ylabel('Age', fontsize=14)\n",
        "plt.xticks(fontsize=12)\n",
        "plt.yticks(fontsize=12)\n",
        "plt.show()"
      ],
      "metadata": {
        "colab": {
          "base_uri": "https://localhost:8080/",
          "height": 736
        },
        "id": "dfMAK8w2z44s",
        "outputId": "f3c4733c-5dc5-4927-f550-659b954f0c08"
      },
      "execution_count": null,
      "outputs": [
        {
          "output_type": "display_data",
          "data": {
            "text/plain": [
              "<Figure size 1200x800 with 1 Axes>"
            ],
            "image/png": "[encoded data removed]"
          },
          "metadata": {}
        }
      ]
    },
    {
      "cell_type": "markdown",
      "source": [
        "##Visualisasi Composition"
      ],
      "metadata": {
        "id": "R5Bg5Ibf61R0"
      }
    },
    {
      "cell_type": "code",
      "source": [
        "cormat = df.corr()\n",
        "fig, ax = plt.subplots(figsize = (16, 8))\n",
        "sns.heatmap(ax = ax, data = cormat, annot = True)\n",
        "ax.set_yticklabels(cormat.columns, rotation = 0)\n",
        "plt.show()\n"
      ],
      "metadata": {
        "colab": {
          "base_uri": "https://localhost:8080/",
          "height": 662
        },
        "id": "mmhy2qVH64mX",
        "outputId": "a07b1a71-7f04-4f22-f47d-0e76ad52975f"
      },
      "execution_count": null,
      "outputs": [
        {
          "output_type": "display_data",
          "data": {
            "text/plain": [
              "<Figure size 1600x800 with 2 Axes>"
            ],
            "image/png": "[encoded data removed]"
          },
          "metadata": {}
        }
      ]
    },
    {
      "cell_type": "code",
      "source": [
        "#Kalkulasi count dari setiap Level category\n",
        "level_count = df['Do you have Depression?'].value_counts()\n",
        "\n",
        "#Membuat pie chart untuk Level categories\n",
        "fig, ax = plt.subplots(figsize=(8, 6))\n",
        "ax.pie(level_count, labels=level_count.index, autopct='%1.1f%%')\n",
        "ax.set_title('Persentase Depression')\n",
        "plt.show()"
      ],
      "metadata": {
        "colab": {
          "base_uri": "https://localhost:8080/",
          "height": 521
        },
        "id": "A4mX7NY87Nqb",
        "outputId": "48095e3d-b970-4e83-f582-1320b3503e4d"
      },
      "execution_count": null,
      "outputs": [
        {
          "output_type": "display_data",
          "data": {
            "text/plain": [
              "<Figure size 800x600 with 1 Axes>"
            ],
            "image/png": "[encoded data removed]"
          },
          "metadata": {}
        }
      ]
    },
    {
      "cell_type": "markdown",
      "source": [
        "##Verify data quality"
      ],
      "metadata": {
        "id": "NHIbuW5P7o63"
      }
    },
    {
      "cell_type": "code",
      "source": [
        "# Periksa nilai yang hilang\n",
        "missing_values = df.isnull().sum()\n",
        "print(\"Missing values:\\n\", missing_values)\n",
        "\n",
        "# Periksa apakah ada duplikat\n",
        "duplicate_rows = df.duplicated()\n",
        "print(\"Number of duplicate rows:\", duplicate_rows.sum())\n",
        "\n",
        "# Periksa untuk outliers\n",
        "Q1 = df.quantile(0.25)\n",
        "Q3 = df.quantile(0.75)\n",
        "IQR = Q3 - Q1\n",
        "outliers = ((df < (Q1 - 1.5 * IQR)) | (df > (Q3 + 1.5 * IQR))).sum()\n",
        "print(\"Outliers:\\n\", outliers)\n",
        "\n",
        "# Periksa data types\n",
        "print(\"Data types:\\n\", df.dtypes)"
      ],
      "metadata": {
        "colab": {
          "base_uri": "https://localhost:8080/"
        },
        "id": "Tb5wT2tu7oDr",
        "outputId": "35592237-4970-4f92-8c2b-084394b33cb3"
      },
      "execution_count": null,
      "outputs": [
        {
          "output_type": "stream",
          "name": "stdout",
          "text": [
            "Missing values:\n",
            " Timestamp                                       0\n",
            "Choose your gender                              0\n",
            "Age                                             1\n",
            "What is your course?                            0\n",
            "Your current year of Study                      0\n",
            "What is your CGPA?                              0\n",
            "Marital status                                  0\n",
            "Do you have Depression?                         0\n",
            "Do you have Anxiety?                            0\n",
            "Do you have Panic attack?                       0\n",
            "Did you seek any specialist for a treatment?    0\n",
            "dtype: int64\n",
            "Number of duplicate rows: 0\n",
            "Outliers:\n",
            " Age                                             0\n",
            "Choose your gender                              0\n",
            "Did you seek any specialist for a treatment?    0\n",
            "Do you have Anxiety?                            0\n",
            "Do you have Depression?                         0\n",
            "Do you have Panic attack?                       0\n",
            "Marital status                                  0\n",
            "Timestamp                                       0\n",
            "What is your CGPA?                              0\n",
            "What is your course?                            0\n",
            "Your current year of Study                      0\n",
            "dtype: int64\n",
            "Data types:\n",
            " Timestamp                                        object\n",
            "Choose your gender                               object\n",
            "Age                                             float64\n",
            "What is your course?                             object\n",
            "Your current year of Study                       object\n",
            "What is your CGPA?                               object\n",
            "Marital status                                   object\n",
            "Do you have Depression?                          object\n",
            "Do you have Anxiety?                             object\n",
            "Do you have Panic attack?                        object\n",
            "Did you seek any specialist for a treatment?     object\n",
            "dtype: object\n"
          ]
        },
        {
          "output_type": "stream",
          "name": "stderr",
          "text": [
            "<ipython-input-41-7d8f5bb30924>:13: FutureWarning: Automatic reindexing on DataFrame vs Series comparisons is deprecated and will raise ValueError in a future version. Do `left, right = left.align(right, axis=1, copy=False)` before e.g. `left == right`\n",
            "  outliers = ((df < (Q1 - 1.5 * IQR)) | (df > (Q3 + 1.5 * IQR))).sum()\n"
          ]
        }
      ]
    },
    {
      "cell_type": "markdown",
      "source": [
        "##Data Preparation"
      ],
      "metadata": {
        "id": "0jn5f_yL74oO"
      }
    },
    {
      "cell_type": "markdown",
      "source": [
        "##Select Data"
      ],
      "metadata": {
        "id": "Xx_vV0Ji7-dk"
      }
    },
    {
      "cell_type": "code",
      "source": [
        "import pandas as pd\n",
        "df = pd.read_csv(\"Student Mental health.csv\")"
      ],
      "metadata": {
        "id": "QT90lKTJ8Ci3"
      },
      "execution_count": null,
      "outputs": []
    },
    {
      "cell_type": "code",
      "source": [
        "# Hanya menampilkan 2 kolom\n",
        "selected_data = df[[\"Choose your gender\", \"Age\"]]\n",
        "\n",
        "# Menampilkan Perintah\n",
        "print(selected_data.head())"
      ],
      "metadata": {
        "colab": {
          "base_uri": "https://localhost:8080/"
        },
        "id": "0brtXTA_8Qi5",
        "outputId": "e4cc2070-9260-495e-9bd2-e2a7bcb24210"
      },
      "execution_count": null,
      "outputs": [
        {
          "output_type": "stream",
          "name": "stdout",
          "text": [
            "  Choose your gender   Age\n",
            "0             Female  18.0\n",
            "1               Male  21.0\n",
            "2               Male  19.0\n",
            "3             Female  22.0\n",
            "4               Male  23.0\n"
          ]
        }
      ]
    },
    {
      "cell_type": "code",
      "source": [
        "# Menampilkan 3 kolom \n",
        "selected_data = df[[\"Choose your gender\", \"Age\", \"Marital status\"]]\n",
        "\n",
        "# Menampilkan perintah\n",
        "print(selected_data.head())"
      ],
      "metadata": {
        "colab": {
          "base_uri": "https://localhost:8080/"
        },
        "id": "4cNCJsyY8scb",
        "outputId": "9eb4c171-6cfe-4b57-b245-9ace53c745a0"
      },
      "execution_count": null,
      "outputs": [
        {
          "output_type": "stream",
          "name": "stdout",
          "text": [
            "  Choose your gender   Age Marital status\n",
            "0             Female  18.0             No\n",
            "1               Male  21.0             No\n",
            "2               Male  19.0             No\n",
            "3             Female  22.0            Yes\n",
            "4               Male  23.0             No\n"
          ]
        }
      ]
    },
    {
      "cell_type": "markdown",
      "source": [
        "##Clean Data"
      ],
      "metadata": {
        "id": "Scc6SnVt9F3c"
      }
    },
    {
      "cell_type": "code",
      "source": [
        "df.isna().sum()"
      ],
      "metadata": {
        "colab": {
          "base_uri": "https://localhost:8080/"
        },
        "id": "gMAQ2Isz9IbP",
        "outputId": "1d38cdc3-95b9-4ddf-ccd3-10008f9b6c1b"
      },
      "execution_count": null,
      "outputs": [
        {
          "output_type": "execute_result",
          "data": {
            "text/plain": [
              "Timestamp                                       0\n",
              "Choose your gender                              0\n",
              "Age                                             1\n",
              "What is your course?                            0\n",
              "Your current year of Study                      0\n",
              "What is your CGPA?                              0\n",
              "Marital status                                  0\n",
              "Do you have Depression?                         0\n",
              "Do you have Anxiety?                            0\n",
              "Do you have Panic attack?                       0\n",
              "Did you seek any specialist for a treatment?    0\n",
              "dtype: int64"
            ]
          },
          "metadata": {},
          "execution_count": 45
        }
      ]
    },
    {
      "cell_type": "code",
      "source": [
        "df.isna().sum() / len(df) * 100"
      ],
      "metadata": {
        "colab": {
          "base_uri": "https://localhost:8080/"
        },
        "id": "IGWbIexO9Nhn",
        "outputId": "6ccb78b2-5c32-42e0-de02-4bf03ae02e4a"
      },
      "execution_count": null,
      "outputs": [
        {
          "output_type": "execute_result",
          "data": {
            "text/plain": [
              "Timestamp                                       0.000000\n",
              "Choose your gender                              0.000000\n",
              "Age                                             0.990099\n",
              "What is your course?                            0.000000\n",
              "Your current year of Study                      0.000000\n",
              "What is your CGPA?                              0.000000\n",
              "Marital status                                  0.000000\n",
              "Do you have Depression?                         0.000000\n",
              "Do you have Anxiety?                            0.000000\n",
              "Do you have Panic attack?                       0.000000\n",
              "Did you seek any specialist for a treatment?    0.000000\n",
              "dtype: float64"
            ]
          },
          "metadata": {},
          "execution_count": 46
        }
      ]
    },
    {
      "cell_type": "code",
      "source": [
        "df[\"Choose your gender\"] = df[\"Choose your gender\"].fillna(df[\"Choose your gender\"].mode()[0])\n",
        "df[\"Age\"] = df[\"Age\"].fillna(df[\"Age\"].mode()[0])\n",
        "df[\"Marital status\"] = df[\"Marital status\"].fillna(df[\"Marital status\"].mode()[0])\n",
        "\n",
        "df.isna().sum()"
      ],
      "metadata": {
        "colab": {
          "base_uri": "https://localhost:8080/"
        },
        "id": "elr64d6f9WVU",
        "outputId": "a7c692b5-5898-4d47-c33b-6d836bef5759"
      },
      "execution_count": null,
      "outputs": [
        {
          "output_type": "execute_result",
          "data": {
            "text/plain": [
              "Timestamp                                       0\n",
              "Choose your gender                              0\n",
              "Age                                             0\n",
              "What is your course?                            0\n",
              "Your current year of Study                      0\n",
              "What is your CGPA?                              0\n",
              "Marital status                                  0\n",
              "Do you have Depression?                         0\n",
              "Do you have Anxiety?                            0\n",
              "Do you have Panic attack?                       0\n",
              "Did you seek any specialist for a treatment?    0\n",
              "dtype: int64"
            ]
          },
          "metadata": {},
          "execution_count": 47
        }
      ]
    },
    {
      "cell_type": "code",
      "source": [
        "df.isna().sum() / len(df) * 100"
      ],
      "metadata": {
        "colab": {
          "base_uri": "https://localhost:8080/"
        },
        "id": "lBLAfLSj-MF_",
        "outputId": "38ee34cd-293a-42e8-c584-49ee6df8398d"
      },
      "execution_count": null,
      "outputs": [
        {
          "output_type": "execute_result",
          "data": {
            "text/plain": [
              "Timestamp                                       0.0\n",
              "Choose your gender                              0.0\n",
              "Age                                             0.0\n",
              "What is your course?                            0.0\n",
              "Your current year of Study                      0.0\n",
              "What is your CGPA?                              0.0\n",
              "Marital status                                  0.0\n",
              "Do you have Depression?                         0.0\n",
              "Do you have Anxiety?                            0.0\n",
              "Do you have Panic attack?                       0.0\n",
              "Did you seek any specialist for a treatment?    0.0\n",
              "dtype: float64"
            ]
          },
          "metadata": {},
          "execution_count": 48
        }
      ]
    },
    {
      "cell_type": "markdown",
      "source": [
        "##Construct Data"
      ],
      "metadata": {
        "id": "od1KiASa-Usz"
      }
    },
    {
      "cell_type": "code",
      "source": [
        "import pandas as pd"
      ],
      "metadata": {
        "id": "KdWrCLrT-Y56"
      },
      "execution_count": null,
      "outputs": []
    },
    {
      "cell_type": "code",
      "source": [
        "df = pd.read_csv(\"Student Mental health.csv\")"
      ],
      "metadata": {
        "id": "LDVAWtjR-pHD"
      },
      "execution_count": null,
      "outputs": []
    },
    {
      "cell_type": "code",
      "source": [
        "# Membuat DataFrame dummy untuk contoh\n",
        "data = {'Your current year of Study': ['year 1', 'year 2', 'year 3', 'year 4'],\n",
        "        'Age': [18.0, 21.0, 22.0, 23.0]}\n",
        "       \n",
        "\n",
        "df = pd.DataFrame(data)\n",
        "\n",
        "# Menghitung Usia dari setiap murid di databank\n",
        "df[\"Age\"] = df['Age'] / ((df['Age'] / 100) ** 2)\n",
        "\n",
        "# Menghapus kolom yang tidak diperlukan\n",
        "df = df.drop('Age', axis=1)\n",
        "\n",
        "# Menampilkan DataFrame setelah Construct Data\n",
        "print(df)\n"
      ],
      "metadata": {
        "colab": {
          "base_uri": "https://localhost:8080/"
        },
        "id": "fOTeqvZxDP7e",
        "outputId": "cb8e793e-1155-4002-b4d6-94855d32d651"
      },
      "execution_count": null,
      "outputs": [
        {
          "output_type": "stream",
          "name": "stdout",
          "text": [
            "  Your current year of Study\n",
            "0                     year 1\n",
            "1                     year 2\n",
            "2                     year 3\n",
            "3                     year 4\n"
          ]
        }
      ]
    },
    {
      "cell_type": "markdown",
      "source": [
        "##Integrate Data"
      ],
      "metadata": {
        "id": "bsQeqPBjE0fn"
      }
    },
    {
      "cell_type": "code",
      "source": [
        "df = pd.read_csv('Student Mental health.csv')\n",
        "\n",
        "# Melakukan perubahan pada nilai data tertentu\n",
        "df.loc[df['Your current year of Study'] == 'nilai_awal', 'Your current year of Study'] = 'nilai_baru'\n",
        "\n",
        "# Melakukan penghapusan kolom yang tidak diperlukan\n",
        "df = df.drop(['Timestamp', 'Marital status'], axis=1)\n",
        "\n",
        "# Menyimpan dataset yang telah diubah\n",
        "df.to_csv('integrity data.csv', index=False)\n",
        "\n",
        "print(\"berhasil membuat dataset baru yaitu\")"
      ],
      "metadata": {
        "colab": {
          "base_uri": "https://localhost:8080/"
        },
        "id": "fmrfYs7IE3FA",
        "outputId": "0d1cd2ff-c658-4de0-a812-4cd612eb2593"
      },
      "execution_count": null,
      "outputs": [
        {
          "output_type": "stream",
          "name": "stdout",
          "text": [
            "berhasil membuat dataset baru yaitu\n"
          ]
        }
      ]
    },
    {
      "cell_type": "markdown",
      "source": [
        "##Format Data"
      ],
      "metadata": {
        "id": "NaBRE6GdIUYE"
      }
    },
    {
      "cell_type": "code",
      "source": [
        "# Membaca file csv\n",
        "df = pd.read_csv('Student Mental health.csv')\n",
        "\n",
        "# Menghapus kolom yang tidak diperlukan\n",
        "df = df.drop(['Timestamp', 'Marital status'], axis=1)\n",
        "\n",
        "# Mengganti nilai null dengan nilai rata-rata\n",
        "mean_value = df['Age'].mean()\n",
        "df['Age'] = df['Age'].fillna(mean_value)\n",
        "\n",
        "# Menghapus baris yang duplikat\n",
        "df = df.drop_duplicates()\n",
        "\n",
        "# Mengurutkan data berdasarkan kolom\n",
        "df = df.sort_values('Your current year of Study')\n",
        "\n",
        "# Menyimpan hasil pengolahan data ke file csv\n",
        "df.to_csv('data_cleaned.csv', index=False)"
      ],
      "metadata": {
        "id": "n0dAF9PxIW4e"
      },
      "execution_count": null,
      "outputs": []
    }
  ]
}